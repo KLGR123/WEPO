{
 "cells": [
  {
   "cell_type": "code",
   "execution_count": 1,
   "id": "d269a0e1-ab28-41e4-8ae0-3b78c8ee69e7",
   "metadata": {},
   "outputs": [
    {
     "data": {
      "application/vnd.jupyter.widget-view+json": {
       "model_id": "5a1a73a5fcb4412f9dc2173394185128",
       "version_major": 2,
       "version_minor": 0
      },
      "text/plain": [
       "Loading checkpoint shards:   0%|          | 0/7 [00:00<?, ?it/s]"
      ]
     },
     "metadata": {},
     "output_type": "display_data"
    },
    {
     "name": "stderr",
     "output_type": "stream",
     "text": [
      "/root/miniconda3/lib/python3.10/site-packages/torch/_utils.py:831: UserWarning: TypedStorage is deprecated. It will be removed in the future and UntypedStorage will be the only storage class. This should only matter to you if you are using storages directly.  To access UntypedStorage directly, use tensor.untyped_storage() instead of tensor.storage()\n",
      "  return self.fget.__get__(instance, owner)()\n"
     ]
    },
    {
     "data": {
      "text/plain": [
       "3"
      ]
     },
     "execution_count": 1,
     "metadata": {},
     "output_type": "execute_result"
    }
   ],
   "source": [
    "# Load model directly\n",
    "from transformers import AutoTokenizer, AutoModelForCausalLM\n",
    "\n",
    "tokenizer = AutoTokenizer.from_pretrained(\"autodl-tmp/Mistral-7B-Instruct-v0.1\", trust_remote_code=True)\n",
    "model = AutoModelForCausalLM.from_pretrained(\"autodl-tmp/Mistral-7B-Instruct-v0.1\", trust_remote_code=True)\n",
    "\n",
    "len(tokenizer(\"hello\")[\"input_ids\"])"
   ]
  },
  {
   "cell_type": "code",
   "execution_count": 2,
   "id": "56c70d12-9622-4cdc-a4f7-673d38d3b051",
   "metadata": {},
   "outputs": [],
   "source": [
    "template_ = [\n",
    "  {\n",
    "    \"instruction\": \"user instruction\",\n",
    "    \"input\": \"user input\",\n",
    "    \"output\": [\n",
    "      \"chosen answer\",\n",
    "      \"rejected answer\"\n",
    "    ]\n",
    "  }\n",
    "]"
   ]
  },
  {
   "cell_type": "code",
   "execution_count": 2,
   "id": "2eb2dd1e-09c5-4aba-a327-b876ce910510",
   "metadata": {},
   "outputs": [
    {
     "name": "stdout",
     "output_type": "stream",
     "text": [
      "You are a web navigation intelligence who interacts with webpage environments to achieve human user intent.\n",
      "You always generate the next ACTION based on the user's INTENT, current webpage HTML and ACTION_HISTORY sequence which recording the actions that have been performed.\n",
      "\n",
      "Given HTML and INTENT and ACTION_HISTORY, you should\n",
      "(1) Rely on your HTML code comprehension to analyze and understand what elements are on the current page.\n",
      "(2) Depend on your reasoning skills to parse the user's INTENT and infer the next action that should be taken in conjunction with the historical trajectory ACTION_HISTORY.\n",
      "(3) Select an element carefully from HTML code to interact with, thus bringing the goal closer to completion.\n",
      "\n",
      "Your output format should be strictly as follows\n",
      "Operation: ... (should be CLICK or TYPE)\n",
      "Value: ... (optional textual value for the operation TYPE)\n",
      "ID: ... (unique id number for the element to click or type into)\n",
      "\n",
      "Now, begin!\n"
     ]
    }
   ],
   "source": [
    "# zero-shot\n",
    "instruction = ( \n",
    "    \"You are a web navigation intelligence who interacts with webpage environments to achieve human user intent.\\n\"\n",
    "    \"You always generate the next ACTION based on the user's INTENT, current webpage HTML and ACTION_HISTORY sequence which recording the actions that have been performed.\\n\\n\"\n",
    "    \"Given HTML and INTENT and ACTION_HISTORY, you should\\n\"\n",
    "    \"(1) Rely on your HTML code comprehension to analyze and understand what elements are on the current page.\\n\"\n",
    "    \"(2) Depend on your reasoning skills to parse the user's INTENT and infer the next action that should be taken in conjunction with the historical trajectory ACTION_HISTORY.\\n\"\n",
    "    \"(3) Select an element carefully from HTML code to interact with, thus bringing the goal closer to completion.\\n\\n\"\n",
    "    \"Your output format should be strictly as follows\\n\"\n",
    "    \"Operation: ... (should be CLICK or TYPE)\\n\"\n",
    "    \"Value: ... (optional textual value for the operation TYPE)\\n\"\n",
    "    \"ID: ... (unique id number for the element to click or type into)\\n\\n\"\n",
    "    # \"Thought: ... (A paragraph explaining why you chose this element to interact with, no more than 50 words)\"\n",
    "    \"Now, begin!\"\n",
    ")\n",
    "\n",
    "print(instruction)"
   ]
  },
  {
   "cell_type": "code",
   "execution_count": 4,
   "id": "7a3ebf3b-33e6-434d-bb4d-92f8618cd937",
   "metadata": {},
   "outputs": [
    {
     "data": {
      "text/plain": [
       "236"
      ]
     },
     "execution_count": 4,
     "metadata": {},
     "output_type": "execute_result"
    }
   ],
   "source": [
    "int(len(instruction) / 4)"
   ]
  },
  {
   "cell_type": "code",
   "execution_count": 3,
   "id": "0130b889-28c5-45db-a083-990e080eeb10",
   "metadata": {},
   "outputs": [],
   "source": [
    "user_input_template = \"INTENT:\\n{intent}\\n\\nHTML:\\n{html}\\n\\nACTION_HISTORY:\\n{action_history}\"\n",
    "output_template = \"Operation: {op}\\nValue: {value}\\nID: {id}\""
   ]
  },
  {
   "cell_type": "code",
   "execution_count": 6,
   "id": "1a8f2182-d84e-4d56-bea1-a7cfaffa9659",
   "metadata": {},
   "outputs": [],
   "source": [
    "# unfold the trajectory \n",
    "# change the backend_node_id to id for token reduction...\n",
    "# CL 1:3 percentage\n",
    "# drop the too long html data sample\n",
    "\n",
    "train_dataset = []"
   ]
  },
  {
   "cell_type": "code",
   "execution_count": 8,
   "id": "b7b44cd8-23b8-4b9f-b986-3f184e0284c3",
   "metadata": {},
   "outputs": [
    {
     "name": "stderr",
     "output_type": "stream",
     "text": [
      " 18%|█▊        | 18/100 [00:48<02:47,  2.04s/it]"
     ]
    },
    {
     "name": "stdout",
     "output_type": "stream",
     "text": [
      "oversize intent: See today's deals on video games and find the best deal on the lowest-priced mouse.\n"
     ]
    },
    {
     "name": "stderr",
     "output_type": "stream",
     "text": [
      " 19%|█▉        | 19/100 [00:53<03:55,  2.91s/it]"
     ]
    },
    {
     "name": "stdout",
     "output_type": "stream",
     "text": [
      "oversize intent: Find Metformin 1000mg tablet price and details.\n",
      "oversize intent: Find Metformin 1000mg tablet price and details.\n",
      "oversize intent: Find Metformin 1000mg tablet price and details.\n"
     ]
    },
    {
     "name": "stderr",
     "output_type": "stream",
     "text": [
      " 28%|██▊       | 28/100 [01:08<01:38,  1.37s/it]"
     ]
    },
    {
     "name": "stdout",
     "output_type": "stream",
     "text": [
      "oversize intent: Get the lowest priced plus size one piece active swimsuit in color black.\n"
     ]
    },
    {
     "name": "stderr",
     "output_type": "stream",
     "text": [
      " 29%|██▉       | 29/100 [01:13<03:01,  2.56s/it]"
     ]
    },
    {
     "name": "stdout",
     "output_type": "stream",
     "text": [
      "oversize intent: Check for travel requirements when travelling from New York to Tokyo as US citizen.\n",
      "oversize intent: Check for travel requirements when travelling from New York to Tokyo as US citizen.\n"
     ]
    },
    {
     "name": "stderr",
     "output_type": "stream",
     "text": [
      " 39%|███▉      | 39/100 [01:40<02:56,  2.90s/it]"
     ]
    },
    {
     "name": "stdout",
     "output_type": "stream",
     "text": [
      "oversize intent: Find climbing gear and sort the results by price high to low.\n",
      "oversize intent: Add Western Digital internal SSD with 1TB storage and 8GB Ram DDR to the cart.\n",
      "oversize intent: Add Western Digital internal SSD with 1TB storage and 8GB Ram DDR to the cart.\n",
      "oversize intent: Add Western Digital internal SSD with 1TB storage and 8GB Ram DDR to the cart.\n",
      "oversize intent: Add Western Digital internal SSD with 1TB storage and 8GB Ram DDR to the cart.\n",
      "oversize intent: Add Western Digital internal SSD with 1TB storage and 8GB Ram DDR to the cart.\n",
      "oversize intent: Add Western Digital internal SSD with 1TB storage and 8GB Ram DDR to the cart.\n",
      "oversize intent: Add Western Digital internal SSD with 1TB storage and 8GB Ram DDR to the cart.\n",
      "oversize intent: Add Western Digital internal SSD with 1TB storage and 8GB Ram DDR to the cart.\n",
      "oversize intent: Add Western Digital internal SSD with 1TB storage and 8GB Ram DDR to the cart.\n",
      "oversize intent: Add Western Digital internal SSD with 1TB storage and 8GB Ram DDR to the cart.\n",
      "oversize intent: Add Western Digital internal SSD with 1TB storage and 8GB Ram DDR to the cart.\n"
     ]
    },
    {
     "name": "stderr",
     "output_type": "stream",
     "text": [
      " 40%|████      | 40/100 [01:58<07:31,  7.53s/it]"
     ]
    },
    {
     "name": "stdout",
     "output_type": "stream",
     "text": [
      "oversize intent: Add Western Digital internal SSD with 1TB storage and 8GB Ram DDR to the cart.\n",
      "oversize intent: Get the most popular documentary tv series sorted by IMDB rating, see the details of the top result.\n"
     ]
    },
    {
     "name": "stderr",
     "output_type": "stream",
     "text": [
      " 41%|████      | 41/100 [02:01<05:58,  6.08s/it]"
     ]
    },
    {
     "name": "stdout",
     "output_type": "stream",
     "text": [
      "oversize intent: Get the most popular documentary tv series sorted by IMDB rating, see the details of the top result.\n",
      "oversize intent: Show top 50 Movies and TV shows by Sci fi genre.\n",
      "oversize intent: Show top 50 Movies and TV shows by Sci fi genre.\n",
      "oversize intent: Show top 50 Movies and TV shows by Sci fi genre.\n"
     ]
    },
    {
     "name": "stderr",
     "output_type": "stream",
     "text": [
      " 42%|████▏     | 42/100 [02:05<05:20,  5.52s/it]"
     ]
    },
    {
     "name": "stdout",
     "output_type": "stream",
     "text": [
      "oversize intent: Show top 50 Movies and TV shows by Sci fi genre.\n"
     ]
    },
    {
     "name": "stderr",
     "output_type": "stream",
     "text": [
      " 64%|██████▍   | 64/100 [02:38<00:39,  1.10s/it]"
     ]
    },
    {
     "name": "stdout",
     "output_type": "stream",
     "text": [
      "oversize intent: Find the cheapest power supply unit with at least 600W power output.\n",
      "oversize intent: Find the cheapest power supply unit with at least 600W power output.\n",
      "oversize intent: Find the cheapest power supply unit with at least 600W power output.\n",
      "oversize intent: Find the cheapest power supply unit with at least 600W power output.\n"
     ]
    },
    {
     "name": "stderr",
     "output_type": "stream",
     "text": [
      " 65%|██████▌   | 65/100 [02:48<02:11,  3.75s/it]"
     ]
    },
    {
     "name": "stdout",
     "output_type": "stream",
     "text": [
      "oversize intent: Find the cheapest power supply unit with at least 600W power output.\n"
     ]
    },
    {
     "name": "stderr",
     "output_type": "stream",
     "text": [
      " 94%|█████████▍| 94/100 [03:29<00:06,  1.13s/it]"
     ]
    },
    {
     "name": "stdout",
     "output_type": "stream",
     "text": [
      "oversize intent: Find a wireless keyboard and mouse combo under $100.\n",
      "oversize intent: Find a wireless keyboard and mouse combo under $100.\n",
      "oversize intent: Find a wireless keyboard and mouse combo under $100.\n",
      "oversize intent: Find a wireless keyboard and mouse combo under $100.\n"
     ]
    },
    {
     "name": "stderr",
     "output_type": "stream",
     "text": [
      " 95%|█████████▌| 95/100 [03:40<00:19,  3.99s/it]"
     ]
    },
    {
     "name": "stdout",
     "output_type": "stream",
     "text": [
      "oversize intent: Find a wireless keyboard and mouse combo under $100.\n"
     ]
    },
    {
     "name": "stderr",
     "output_type": "stream",
     "text": [
      "100%|██████████| 100/100 [03:48<00:00,  2.29s/it]\n"
     ]
    },
    {
     "name": "stdout",
     "output_type": "stream",
     "text": [
      "0 31 2121\n"
     ]
    },
    {
     "name": "stderr",
     "output_type": "stream",
     "text": [
      "  0%|          | 0/100 [00:00<?, ?it/s]"
     ]
    },
    {
     "name": "stdout",
     "output_type": "stream",
     "text": [
      "oversize intent: Look up the scores for the previous day's NBA games\n",
      "oversize intent: Look up the scores for the previous day's NBA games\n"
     ]
    },
    {
     "name": "stderr",
     "output_type": "stream",
     "text": [
      " 32%|███▏      | 32/100 [01:00<02:29,  2.20s/it]"
     ]
    },
    {
     "name": "stdout",
     "output_type": "stream",
     "text": [
      "oversize intent: Add a pack of toilet paper and a bottle of laundry detergent to your Amazon cart with the lowest total price.\n",
      "oversize intent: Add a pack of toilet paper and a bottle of laundry detergent to your Amazon cart with the lowest total price.\n",
      "oversize intent: Add a pack of toilet paper and a bottle of laundry detergent to your Amazon cart with the lowest total price.\n",
      "oversize intent: Add a pack of toilet paper and a bottle of laundry detergent to your Amazon cart with the lowest total price.\n",
      "oversize intent: Add a pack of toilet paper and a bottle of laundry detergent to your Amazon cart with the lowest total price.\n",
      "oversize intent: Add a pack of toilet paper and a bottle of laundry detergent to your Amazon cart with the lowest total price.\n",
      "oversize intent: Add a pack of toilet paper and a bottle of laundry detergent to your Amazon cart with the lowest total price.\n"
     ]
    },
    {
     "name": "stderr",
     "output_type": "stream",
     "text": [
      " 33%|███▎      | 33/100 [01:11<05:29,  4.91s/it]"
     ]
    },
    {
     "name": "stdout",
     "output_type": "stream",
     "text": [
      "oversize intent: Add a pack of toilet paper and a bottle of laundry detergent to your Amazon cart with the lowest total price.\n"
     ]
    },
    {
     "name": "stderr",
     "output_type": "stream",
     "text": [
      " 49%|████▉     | 49/100 [01:33<00:51,  1.00s/it]"
     ]
    },
    {
     "name": "stdout",
     "output_type": "stream",
     "text": [
      "oversize intent: Get a Hasbro Hulk action figure manufactured in 1990 with the lowest price + shipping.\n",
      "oversize intent: Get a Hasbro Hulk action figure manufactured in 1990 with the lowest price + shipping.\n"
     ]
    },
    {
     "name": "stderr",
     "output_type": "stream",
     "text": [
      " 58%|█████▊    | 58/100 [01:50<00:58,  1.38s/it]"
     ]
    },
    {
     "name": "stdout",
     "output_type": "stream",
     "text": [
      "oversize intent: Find Travel Pack for hiking.\n"
     ]
    },
    {
     "name": "stderr",
     "output_type": "stream",
     "text": [
      " 59%|█████▉    | 59/100 [01:53<01:15,  1.83s/it]"
     ]
    },
    {
     "name": "stdout",
     "output_type": "stream",
     "text": [
      "oversize intent: Find rental charges for bikes in 37863.\n"
     ]
    },
    {
     "name": "stderr",
     "output_type": "stream",
     "text": [
      " 66%|██████▌   | 66/100 [02:02<00:36,  1.06s/it]"
     ]
    },
    {
     "name": "stdout",
     "output_type": "stream",
     "text": [
      "oversize intent: Find a gaming pc which can run Call of Duty Warzone at 4k.\n",
      "oversize intent: Find a gaming pc which can run Call of Duty Warzone at 4k.\n"
     ]
    },
    {
     "name": "stderr",
     "output_type": "stream",
     "text": [
      " 75%|███████▌  | 75/100 [02:25<01:31,  3.65s/it]"
     ]
    },
    {
     "name": "stdout",
     "output_type": "stream",
     "text": [
      "oversize intent: add a motherboard under $200 and a compatible processor at any price to the shopping cart.\n",
      "oversize intent: add a motherboard under $200 and a compatible processor at any price to the shopping cart.\n",
      "oversize intent: add a motherboard under $200 and a compatible processor at any price to the shopping cart.\n",
      "oversize intent: add a motherboard under $200 and a compatible processor at any price to the shopping cart.\n",
      "oversize intent: add a motherboard under $200 and a compatible processor at any price to the shopping cart.\n",
      "oversize intent: add a motherboard under $200 and a compatible processor at any price to the shopping cart.\n",
      "oversize intent: add a motherboard under $200 and a compatible processor at any price to the shopping cart.\n"
     ]
    },
    {
     "name": "stderr",
     "output_type": "stream",
     "text": [
      " 76%|███████▌  | 76/100 [02:40<02:45,  6.88s/it]"
     ]
    },
    {
     "name": "stdout",
     "output_type": "stream",
     "text": [
      "oversize intent: add a motherboard under $200 and a compatible processor at any price to the shopping cart.\n"
     ]
    },
    {
     "name": "stderr",
     "output_type": "stream",
     "text": [
      " 83%|████████▎ | 83/100 [02:50<00:39,  2.30s/it]"
     ]
    },
    {
     "name": "stdout",
     "output_type": "stream",
     "text": [
      "oversize intent: Show me the newest on-demand releases.\n"
     ]
    },
    {
     "name": "stderr",
     "output_type": "stream",
     "text": [
      " 89%|████████▉ | 89/100 [03:19<00:53,  4.89s/it]"
     ]
    },
    {
     "name": "stdout",
     "output_type": "stream",
     "text": [
      "oversize intent: Find a hydropack and make  the results to show only items that have a capacity of 21 to 35L.\n"
     ]
    },
    {
     "name": "stderr",
     "output_type": "stream",
     "text": [
      " 90%|█████████ | 90/100 [03:22<00:44,  4.48s/it]"
     ]
    },
    {
     "name": "stdout",
     "output_type": "stream",
     "text": [
      "oversize intent: Search for kayaks and filter the results to show only those that are suitable for whitewater rapids.\n"
     ]
    },
    {
     "name": "stderr",
     "output_type": "stream",
     "text": [
      "100%|██████████| 100/100 [03:39<00:00,  2.20s/it]\n"
     ]
    },
    {
     "name": "stdout",
     "output_type": "stream",
     "text": [
      "1 52 2328\n"
     ]
    },
    {
     "name": "stderr",
     "output_type": "stream",
     "text": [
      " 24%|██▍       | 24/100 [00:49<02:58,  2.35s/it]"
     ]
    },
    {
     "name": "stdout",
     "output_type": "stream",
     "text": [
      "oversize intent: Search the  actor who won the Oscars for best actor  in a suuporing role ine 1990, and add his upcoming movies to my watchlist.\n",
      "oversize intent: Search the  actor who won the Oscars for best actor  in a suuporing role ine 1990, and add his upcoming movies to my watchlist.\n",
      "oversize intent: Search the  actor who won the Oscars for best actor  in a suuporing role ine 1990, and add his upcoming movies to my watchlist.\n",
      "oversize intent: Search the  actor who won the Oscars for best actor  in a suuporing role ine 1990, and add his upcoming movies to my watchlist.\n"
     ]
    },
    {
     "name": "stderr",
     "output_type": "stream",
     "text": [
      " 25%|██▌       | 25/100 [00:53<03:30,  2.81s/it]"
     ]
    },
    {
     "name": "stdout",
     "output_type": "stream",
     "text": [
      "oversize intent: Search the  actor who won the Oscars for best actor  in a suuporing role ine 1990, and add his upcoming movies to my watchlist.\n"
     ]
    },
    {
     "name": "stderr",
     "output_type": "stream",
     "text": [
      " 27%|██▋       | 27/100 [00:55<02:20,  1.92s/it]"
     ]
    },
    {
     "name": "stdout",
     "output_type": "stream",
     "text": [
      "oversize intent: Find The Last of Us series and add it to my watch list.\n",
      "oversize intent: Give me the IMDB recommendations of what to watch.\n"
     ]
    },
    {
     "name": "stderr",
     "output_type": "stream",
     "text": [
      " 28%|██▊       | 28/100 [00:56<02:04,  1.73s/it]"
     ]
    },
    {
     "name": "stdout",
     "output_type": "stream",
     "text": [
      "oversize intent: Give me the IMDB recommendations of what to watch.\n",
      "oversize intent: Show me a list of comedy movies, sorted by user ratings.\n",
      "oversize intent: Show me a list of comedy movies, sorted by user ratings.\n",
      "oversize intent: Show me a list of comedy movies, sorted by user ratings.\n"
     ]
    },
    {
     "name": "stderr",
     "output_type": "stream",
     "text": [
      " 29%|██▉       | 29/100 [00:59<02:40,  2.26s/it]"
     ]
    },
    {
     "name": "stdout",
     "output_type": "stream",
     "text": [
      "oversize intent: Show me a list of comedy movies, sorted by user ratings.\n"
     ]
    },
    {
     "name": "stderr",
     "output_type": "stream",
     "text": [
      " 60%|██████    | 60/100 [01:56<00:56,  1.42s/it]"
     ]
    },
    {
     "name": "stdout",
     "output_type": "stream",
     "text": [
      "oversize intent: Show me RPG video games.\n",
      "oversize intent: Show me RPG video games.\n",
      "oversize intent: Show me RPG video games.\n",
      "oversize intent: Show me RPG video games.\n"
     ]
    },
    {
     "name": "stderr",
     "output_type": "stream",
     "text": [
      " 64%|██████▍   | 64/100 [02:11<01:46,  2.95s/it]"
     ]
    },
    {
     "name": "stdout",
     "output_type": "stream",
     "text": [
      "oversize intent: Play Trailer of \"The Flash\" 2023.\n"
     ]
    },
    {
     "name": "stderr",
     "output_type": "stream",
     "text": [
      " 70%|███████   | 70/100 [02:20<00:52,  1.74s/it]"
     ]
    },
    {
     "name": "stdout",
     "output_type": "stream",
     "text": [
      "oversize intent: Add a dome tent to my shopping cart.\n"
     ]
    },
    {
     "name": "stderr",
     "output_type": "stream",
     "text": [
      " 75%|███████▌  | 75/100 [02:26<00:33,  1.35s/it]"
     ]
    },
    {
     "name": "stdout",
     "output_type": "stream",
     "text": [
      "oversize intent: Play a star wars movie trailer.\n",
      "oversize intent: Add the second most popular horror series to my watchlist.\n"
     ]
    },
    {
     "name": "stderr",
     "output_type": "stream",
     "text": [
      " 76%|███████▌  | 76/100 [02:28<00:38,  1.62s/it]"
     ]
    },
    {
     "name": "stdout",
     "output_type": "stream",
     "text": [
      "oversize intent: Add the second most popular horror series to my watchlist.\n",
      "oversize intent: Find videos from the Oscar 2023.\n",
      "oversize intent: Find videos from the Oscar 2023.\n"
     ]
    },
    {
     "name": "stderr",
     "output_type": "stream",
     "text": [
      " 77%|███████▋  | 77/100 [02:30<00:40,  1.77s/it]"
     ]
    },
    {
     "name": "stdout",
     "output_type": "stream",
     "text": [
      "oversize intent: Find videos from the Oscar 2023.\n"
     ]
    },
    {
     "name": "stderr",
     "output_type": "stream",
     "text": [
      " 78%|███████▊  | 78/100 [02:32<00:42,  1.93s/it]"
     ]
    },
    {
     "name": "stdout",
     "output_type": "stream",
     "text": [
      "oversize intent: Find the list of critic reviews for the movie Creed III.\n",
      "oversize intent: Find superhero sci-fi movies based on comic books rated 7 to 9, and add the three movies with the most votes to my watchlist.\n",
      "oversize intent: Find superhero sci-fi movies based on comic books rated 7 to 9, and add the three movies with the most votes to my watchlist.\n",
      "oversize intent: Find superhero sci-fi movies based on comic books rated 7 to 9, and add the three movies with the most votes to my watchlist.\n",
      "oversize intent: Find superhero sci-fi movies based on comic books rated 7 to 9, and add the three movies with the most votes to my watchlist.\n",
      "oversize intent: Find superhero sci-fi movies based on comic books rated 7 to 9, and add the three movies with the most votes to my watchlist.\n",
      "oversize intent: Find superhero sci-fi movies based on comic books rated 7 to 9, and add the three movies with the most votes to my watchlist.\n",
      "oversize intent: Find superhero sci-fi movies based on comic books rated 7 to 9, and add the three movies with the most votes to my watchlist.\n",
      "oversize intent: Find superhero sci-fi movies based on comic books rated 7 to 9, and add the three movies with the most votes to my watchlist.\n",
      "oversize intent: Find superhero sci-fi movies based on comic books rated 7 to 9, and add the three movies with the most votes to my watchlist.\n",
      "oversize intent: Find superhero sci-fi movies based on comic books rated 7 to 9, and add the three movies with the most votes to my watchlist.\n"
     ]
    },
    {
     "name": "stderr",
     "output_type": "stream",
     "text": [
      " 79%|███████▉  | 79/100 [02:46<01:52,  5.38s/it]"
     ]
    },
    {
     "name": "stdout",
     "output_type": "stream",
     "text": [
      "oversize intent: Find superhero sci-fi movies based on comic books rated 7 to 9, and add the three movies with the most votes to my watchlist.\n"
     ]
    },
    {
     "name": "stderr",
     "output_type": "stream",
     "text": [
      " 80%|████████  | 80/100 [02:49<01:31,  4.59s/it]"
     ]
    },
    {
     "name": "stdout",
     "output_type": "stream",
     "text": [
      "oversize intent: Find hotels in Las Vegas, NV that offer free airport shuttle service.\n"
     ]
    },
    {
     "name": "stderr",
     "output_type": "stream",
     "text": [
      " 93%|█████████▎| 93/100 [03:10<00:07,  1.14s/it]"
     ]
    },
    {
     "name": "stdout",
     "output_type": "stream",
     "text": [
      "oversize intent: Browse the women's hiking boots section and filter the results to show only those that are waterproof and have a rating of at least 4 stars and size 6.\n",
      "oversize intent: Browse the women's hiking boots section and filter the results to show only those that are waterproof and have a rating of at least 4 stars and size 6.\n"
     ]
    },
    {
     "name": "stderr",
     "output_type": "stream",
     "text": [
      " 94%|█████████▍| 94/100 [03:15<00:13,  2.19s/it]"
     ]
    },
    {
     "name": "stdout",
     "output_type": "stream",
     "text": [
      "oversize intent: Browse the women's hiking boots section and filter the results to show only those that are waterproof and have a rating of at least 4 stars and size 6.\n"
     ]
    },
    {
     "name": "stderr",
     "output_type": "stream",
     "text": [
      "100%|██████████| 100/100 [03:18<00:00,  1.99s/it]\n"
     ]
    },
    {
     "name": "stdout",
     "output_type": "stream",
     "text": [
      "2 33 1701\n"
     ]
    },
    {
     "name": "stderr",
     "output_type": "stream",
     "text": [
      "  5%|▌         | 5/100 [00:05<01:56,  1.23s/it]"
     ]
    },
    {
     "name": "stdout",
     "output_type": "stream",
     "text": [
      "oversize intent: What are Jerry Trainor's upcoming projects?\n",
      "oversize intent: What are Jerry Trainor's upcoming projects?\n",
      "oversize intent: What are Jerry Trainor's upcoming projects?\n"
     ]
    },
    {
     "name": "stderr",
     "output_type": "stream",
     "text": [
      "  6%|▌         | 6/100 [00:07<02:26,  1.56s/it]"
     ]
    },
    {
     "name": "stdout",
     "output_type": "stream",
     "text": [
      "oversize intent: What are Jerry Trainor's upcoming projects?\n"
     ]
    },
    {
     "name": "stderr",
     "output_type": "stream",
     "text": [
      " 24%|██▍       | 24/100 [00:54<04:23,  3.46s/it]"
     ]
    },
    {
     "name": "stdout",
     "output_type": "stream",
     "text": [
      "oversize intent: Look for an English language book on roman empire history in the Kindle store released in the last 90 days, it should be displayed according to its latest publication date, and add the top result to the shopping list.\n"
     ]
    },
    {
     "name": "stderr",
     "output_type": "stream",
     "text": [
      " 25%|██▌       | 25/100 [01:00<05:06,  4.09s/it]"
     ]
    },
    {
     "name": "stdout",
     "output_type": "stream",
     "text": [
      "oversize intent: Look for an English language book on roman empire history in the Kindle store released in the last 90 days, it should be displayed according to its latest publication date, and add the top result to the shopping list.\n"
     ]
    },
    {
     "name": "stderr",
     "output_type": "stream",
     "text": [
      " 30%|███       | 30/100 [01:17<04:03,  3.48s/it]"
     ]
    },
    {
     "name": "stdout",
     "output_type": "stream",
     "text": [
      "oversize intent: Add 10 of the cheapest green shirt to my cart\n",
      "oversize intent: Add 10 of the cheapest green shirt to my cart\n",
      "oversize intent: Add 10 of the cheapest green shirt to my cart\n"
     ]
    },
    {
     "name": "stderr",
     "output_type": "stream",
     "text": [
      " 52%|█████▏    | 52/100 [01:48<01:15,  1.57s/it]"
     ]
    },
    {
     "name": "stdout",
     "output_type": "stream",
     "text": [
      "oversize intent: Search for used BMW X5 Crossovers and compare the mileage of the first two cars.\n",
      "oversize intent: Search for used BMW X5 Crossovers and compare the mileage of the first two cars.\n",
      "oversize intent: Search for used BMW X5 Crossovers and compare the mileage of the first two cars.\n",
      "oversize intent: Search for used BMW X5 Crossovers and compare the mileage of the first two cars.\n",
      "oversize intent: Search for used BMW X5 Crossovers and compare the mileage of the first two cars.\n",
      "oversize intent: Search for used BMW X5 Crossovers and compare the mileage of the first two cars.\n",
      "oversize intent: Search for used BMW X5 Crossovers and compare the mileage of the first two cars.\n"
     ]
    },
    {
     "name": "stderr",
     "output_type": "stream",
     "text": [
      " 54%|█████▍    | 54/100 [01:59<02:22,  3.10s/it]"
     ]
    },
    {
     "name": "stdout",
     "output_type": "stream",
     "text": [
      "oversize intent: Find a store in Los Angeles, California, and set Riverside as my store and add a card from that store to my favorites\n"
     ]
    },
    {
     "name": "stderr",
     "output_type": "stream",
     "text": [
      " 55%|█████▌    | 55/100 [01:59<01:41,  2.25s/it]"
     ]
    },
    {
     "name": "stdout",
     "output_type": "stream",
     "text": [
      "oversize intent: Search for an automatic grey sports car with the lowest price, gas fuel and free shipping manufactured between 2018 to 2022, compare the top two results and compare photos.\n",
      "oversize intent: Search for an automatic grey sports car with the lowest price, gas fuel and free shipping manufactured between 2018 to 2022, compare the top two results and compare photos.\n",
      "oversize intent: Search for an automatic grey sports car with the lowest price, gas fuel and free shipping manufactured between 2018 to 2022, compare the top two results and compare photos.\n",
      "oversize intent: Search for an automatic grey sports car with the lowest price, gas fuel and free shipping manufactured between 2018 to 2022, compare the top two results and compare photos.\n",
      "oversize intent: Search for an automatic grey sports car with the lowest price, gas fuel and free shipping manufactured between 2018 to 2022, compare the top two results and compare photos.\n",
      "oversize intent: Search for an automatic grey sports car with the lowest price, gas fuel and free shipping manufactured between 2018 to 2022, compare the top two results and compare photos.\n",
      "oversize intent: Search for an automatic grey sports car with the lowest price, gas fuel and free shipping manufactured between 2018 to 2022, compare the top two results and compare photos.\n",
      "oversize intent: Search for an automatic grey sports car with the lowest price, gas fuel and free shipping manufactured between 2018 to 2022, compare the top two results and compare photos.\n",
      "oversize intent: Search for an automatic grey sports car with the lowest price, gas fuel and free shipping manufactured between 2018 to 2022, compare the top two results and compare photos.\n"
     ]
    },
    {
     "name": "stderr",
     "output_type": "stream",
     "text": [
      " 70%|███████   | 70/100 [02:33<00:41,  1.39s/it]"
     ]
    },
    {
     "name": "stdout",
     "output_type": "stream",
     "text": [
      "oversize intent: Compare two wireless printers that are rated above 4 stars.\n",
      "oversize intent: Compare two wireless printers that are rated above 4 stars.\n",
      "oversize intent: Compare two wireless printers that are rated above 4 stars.\n",
      "oversize intent: Compare two wireless printers that are rated above 4 stars.\n",
      "oversize intent: Compare two wireless printers that are rated above 4 stars.\n",
      "oversize intent: Compare two wireless printers that are rated above 4 stars.\n",
      "oversize intent: Compare two wireless printers that are rated above 4 stars.\n"
     ]
    },
    {
     "name": "stderr",
     "output_type": "stream",
     "text": [
      " 71%|███████   | 71/100 [02:47<02:32,  5.26s/it]"
     ]
    },
    {
     "name": "stdout",
     "output_type": "stream",
     "text": [
      "oversize intent: Compare two wireless printers that are rated above 4 stars.\n"
     ]
    },
    {
     "name": "stderr",
     "output_type": "stream",
     "text": [
      " 80%|████████  | 80/100 [02:58<00:23,  1.19s/it]"
     ]
    },
    {
     "name": "stdout",
     "output_type": "stream",
     "text": [
      "oversize intent: Find flights from Washington airports to New York airports and only show those with scheduled status.\n"
     ]
    },
    {
     "name": "stderr",
     "output_type": "stream",
     "text": [
      " 81%|████████  | 81/100 [03:01<00:32,  1.71s/it]"
     ]
    },
    {
     "name": "stdout",
     "output_type": "stream",
     "text": [
      "oversize intent: Find flights from Washington airports to New York airports and only show those with scheduled status.\n"
     ]
    },
    {
     "name": "stderr",
     "output_type": "stream",
     "text": [
      "100%|██████████| 100/100 [03:42<00:00,  2.23s/it]\n"
     ]
    },
    {
     "name": "stdout",
     "output_type": "stream",
     "text": [
      "3 51 2139\n"
     ]
    },
    {
     "name": "stderr",
     "output_type": "stream",
     "text": [
      "  0%|          | 0/100 [00:00<?, ?it/s]"
     ]
    },
    {
     "name": "stdout",
     "output_type": "stream",
     "text": [
      "oversize intent: Browse new laptops from $400 to $500 that offers free shippping.\n"
     ]
    },
    {
     "name": "stderr",
     "output_type": "stream",
     "text": [
      "  4%|▍         | 4/100 [00:13<05:02,  3.15s/it]"
     ]
    },
    {
     "name": "stdout",
     "output_type": "stream",
     "text": [
      "oversize intent: Find the cheapest unused wireless Logitech Keyboard under $70.\n",
      "oversize intent: Find the cheapest unused wireless Logitech Keyboard under $70.\n",
      "oversize intent: Find the cheapest unused wireless Logitech Keyboard under $70.\n",
      "oversize intent: Find the cheapest unused wireless Logitech Keyboard under $70.\n",
      "oversize intent: Find the cheapest unused wireless Logitech Keyboard under $70.\n",
      "oversize intent: Find the cheapest unused wireless Logitech Keyboard under $70.\n",
      "oversize intent: Find the cheapest unused wireless Logitech Keyboard under $70.\n",
      "oversize intent: Find the cheapest unused wireless Logitech Keyboard under $70.\n",
      "oversize intent: Find the cheapest unused wireless Logitech Keyboard under $70.\n"
     ]
    },
    {
     "name": "stderr",
     "output_type": "stream",
     "text": [
      "  5%|▌         | 5/100 [00:32<13:58,  8.82s/it]"
     ]
    },
    {
     "name": "stdout",
     "output_type": "stream",
     "text": [
      "oversize intent: Find the cheapest unused wireless Logitech Keyboard under $70.\n"
     ]
    },
    {
     "name": "stderr",
     "output_type": "stream",
     "text": [
      "  6%|▌         | 6/100 [00:33<10:03,  6.42s/it]"
     ]
    },
    {
     "name": "stdout",
     "output_type": "stream",
     "text": [
      "oversize intent: Find a living History event to attend in in April .\n",
      "oversize intent: Find a living History event to attend in in April .\n"
     ]
    },
    {
     "name": "stderr",
     "output_type": "stream",
     "text": [
      "  8%|▊         | 8/100 [00:37<05:44,  3.75s/it]"
     ]
    },
    {
     "name": "stdout",
     "output_type": "stream",
     "text": [
      "oversize intent: Find a living History event to attend in in April .\n"
     ]
    },
    {
     "name": "stderr",
     "output_type": "stream",
     "text": [
      " 13%|█▎        | 13/100 [00:41<01:48,  1.25s/it]"
     ]
    },
    {
     "name": "stdout",
     "output_type": "stream",
     "text": [
      "oversize intent: Show me a list of children's program events in Illinois.\n",
      "oversize intent: Show me a list of children's program events in Illinois.\n",
      "oversize intent: Show me a list of children's program events in Illinois.\n",
      "oversize intent: Show me a list of children's program events in Illinois.\n"
     ]
    },
    {
     "name": "stderr",
     "output_type": "stream",
     "text": [
      " 24%|██▍       | 24/100 [01:08<02:28,  1.96s/it]"
     ]
    },
    {
     "name": "stdout",
     "output_type": "stream",
     "text": [
      "oversize intent: Search for hiking boots and filter the results to show only those with a waterproof rating of at least 3 stars.\n"
     ]
    },
    {
     "name": "stderr",
     "output_type": "stream",
     "text": [
      " 25%|██▌       | 25/100 [01:12<03:11,  2.56s/it]"
     ]
    },
    {
     "name": "stdout",
     "output_type": "stream",
     "text": [
      "oversize intent: Search for hiking boots and filter the results to show only those with a waterproof rating of at least 3 stars.\n"
     ]
    },
    {
     "name": "stderr",
     "output_type": "stream",
     "text": [
      " 37%|███▋      | 37/100 [01:34<02:01,  1.93s/it]"
     ]
    },
    {
     "name": "stdout",
     "output_type": "stream",
     "text": [
      "oversize intent: Add Prometheus movie to watchlist.\n",
      "oversize intent: Add documentary  \"The Elephant Whisperers\" and \"The Magician's Elephant\" to the watchlist.\n",
      "oversize intent: Add documentary  \"The Elephant Whisperers\" and \"The Magician's Elephant\" to the watchlist.\n"
     ]
    },
    {
     "name": "stderr",
     "output_type": "stream",
     "text": [
      " 38%|███▊      | 38/100 [01:37<02:12,  2.14s/it]"
     ]
    },
    {
     "name": "stdout",
     "output_type": "stream",
     "text": [
      "oversize intent: Add documentary  \"The Elephant Whisperers\" and \"The Magician's Elephant\" to the watchlist.\n"
     ]
    },
    {
     "name": "stderr",
     "output_type": "stream",
     "text": [
      " 47%|████▋     | 47/100 [01:51<01:20,  1.53s/it]"
     ]
    },
    {
     "name": "stdout",
     "output_type": "stream",
     "text": [
      "oversize intent: Find series 1 and series 2 BMW vehicles in the store nearest to 07055\n",
      "oversize intent: Find series 1 and series 2 BMW vehicles in the store nearest to 07055\n",
      "oversize intent: Find series 1 and series 2 BMW vehicles in the store nearest to 07055\n",
      "oversize intent: Find series 1 and series 2 BMW vehicles in the store nearest to 07055\n",
      "oversize intent: Find series 1 and series 2 BMW vehicles in the store nearest to 07055\n",
      "oversize intent: Find series 1 and series 2 BMW vehicles in the store nearest to 07055\n",
      "oversize intent: Find series 1 and series 2 BMW vehicles in the store nearest to 07055\n",
      "oversize intent: Find series 1 and series 2 BMW vehicles in the store nearest to 07055\n",
      "oversize intent: Find series 1 and series 2 BMW vehicles in the store nearest to 07055\n",
      "oversize intent: Find series 1 and series 2 BMW vehicles in the store nearest to 07055\n",
      "oversize intent: Find series 1 and series 2 BMW vehicles in the store nearest to 07055\n",
      "oversize intent: Find series 1 and series 2 BMW vehicles in the store nearest to 07055\n",
      "oversize intent: Find series 1 and series 2 BMW vehicles in the store nearest to 07055\n",
      "oversize intent: Find series 1 and series 2 BMW vehicles in the store nearest to 07055\n"
     ]
    },
    {
     "name": "stderr",
     "output_type": "stream",
     "text": [
      " 49%|████▉     | 49/100 [02:07<03:38,  4.28s/it]"
     ]
    },
    {
     "name": "stdout",
     "output_type": "stream",
     "text": [
      "oversize intent: Find an Xbox Wireless controller rated above 4 stars.\n",
      "oversize intent: Find an Xbox Wireless controller rated above 4 stars.\n",
      "oversize intent: Find an Xbox Wireless controller rated above 4 stars.\n",
      "oversize intent: Find an Xbox Wireless controller rated above 4 stars.\n",
      "oversize intent: Find an Xbox Wireless controller rated above 4 stars.\n"
     ]
    },
    {
     "name": "stderr",
     "output_type": "stream",
     "text": [
      " 50%|█████     | 50/100 [02:18<05:14,  6.29s/it]"
     ]
    },
    {
     "name": "stdout",
     "output_type": "stream",
     "text": [
      "oversize intent: Find an Xbox Wireless controller rated above 4 stars.\n"
     ]
    },
    {
     "name": "stderr",
     "output_type": "stream",
     "text": [
      " 57%|█████▋    | 57/100 [02:25<01:12,  1.68s/it]"
     ]
    },
    {
     "name": "stdout",
     "output_type": "stream",
     "text": [
      "oversize intent: Remove the SSD on my cart\n"
     ]
    },
    {
     "name": "stderr",
     "output_type": "stream",
     "text": [
      " 59%|█████▉    | 59/100 [02:28<01:00,  1.48s/it]"
     ]
    },
    {
     "name": "stdout",
     "output_type": "stream",
     "text": [
      "oversize intent: Remove the SSD on my cart\n"
     ]
    },
    {
     "name": "stderr",
     "output_type": "stream",
     "text": [
      " 68%|██████▊   | 68/100 [02:37<00:56,  1.77s/it]"
     ]
    },
    {
     "name": "stdout",
     "output_type": "stream",
     "text": [
      "oversize intent: Build a PC with Intel i9 Raptor Lake 24 cores, Asus ROG strix Z790 motherboard, Asus TUF Rtx 4090 and remaining all compatible products with SSD.\n",
      "oversize intent: Build a PC with Intel i9 Raptor Lake 24 cores, Asus ROG strix Z790 motherboard, Asus TUF Rtx 4090 and remaining all compatible products with SSD.\n",
      "oversize intent: Build a PC with Intel i9 Raptor Lake 24 cores, Asus ROG strix Z790 motherboard, Asus TUF Rtx 4090 and remaining all compatible products with SSD.\n",
      "oversize intent: Build a PC with Intel i9 Raptor Lake 24 cores, Asus ROG strix Z790 motherboard, Asus TUF Rtx 4090 and remaining all compatible products with SSD.\n",
      "oversize intent: Build a PC with Intel i9 Raptor Lake 24 cores, Asus ROG strix Z790 motherboard, Asus TUF Rtx 4090 and remaining all compatible products with SSD.\n",
      "oversize intent: Build a PC with Intel i9 Raptor Lake 24 cores, Asus ROG strix Z790 motherboard, Asus TUF Rtx 4090 and remaining all compatible products with SSD.\n",
      "oversize intent: Build a PC with Intel i9 Raptor Lake 24 cores, Asus ROG strix Z790 motherboard, Asus TUF Rtx 4090 and remaining all compatible products with SSD.\n",
      "oversize intent: Build a PC with Intel i9 Raptor Lake 24 cores, Asus ROG strix Z790 motherboard, Asus TUF Rtx 4090 and remaining all compatible products with SSD.\n",
      "oversize intent: Build a PC with Intel i9 Raptor Lake 24 cores, Asus ROG strix Z790 motherboard, Asus TUF Rtx 4090 and remaining all compatible products with SSD.\n",
      "oversize intent: Build a PC with Intel i9 Raptor Lake 24 cores, Asus ROG strix Z790 motherboard, Asus TUF Rtx 4090 and remaining all compatible products with SSD.\n",
      "oversize intent: Build a PC with Intel i9 Raptor Lake 24 cores, Asus ROG strix Z790 motherboard, Asus TUF Rtx 4090 and remaining all compatible products with SSD.\n",
      "oversize intent: Build a PC with Intel i9 Raptor Lake 24 cores, Asus ROG strix Z790 motherboard, Asus TUF Rtx 4090 and remaining all compatible products with SSD.\n",
      "oversize intent: Build a PC with Intel i9 Raptor Lake 24 cores, Asus ROG strix Z790 motherboard, Asus TUF Rtx 4090 and remaining all compatible products with SSD.\n",
      "oversize intent: Build a PC with Intel i9 Raptor Lake 24 cores, Asus ROG strix Z790 motherboard, Asus TUF Rtx 4090 and remaining all compatible products with SSD.\n",
      "oversize intent: Build a PC with Intel i9 Raptor Lake 24 cores, Asus ROG strix Z790 motherboard, Asus TUF Rtx 4090 and remaining all compatible products with SSD.\n",
      "oversize intent: Build a PC with Intel i9 Raptor Lake 24 cores, Asus ROG strix Z790 motherboard, Asus TUF Rtx 4090 and remaining all compatible products with SSD.\n",
      "oversize intent: Build a PC with Intel i9 Raptor Lake 24 cores, Asus ROG strix Z790 motherboard, Asus TUF Rtx 4090 and remaining all compatible products with SSD.\n",
      "oversize intent: Build a PC with Intel i9 Raptor Lake 24 cores, Asus ROG strix Z790 motherboard, Asus TUF Rtx 4090 and remaining all compatible products with SSD.\n",
      "oversize intent: Build a PC with Intel i9 Raptor Lake 24 cores, Asus ROG strix Z790 motherboard, Asus TUF Rtx 4090 and remaining all compatible products with SSD.\n",
      "oversize intent: Build a PC with Intel i9 Raptor Lake 24 cores, Asus ROG strix Z790 motherboard, Asus TUF Rtx 4090 and remaining all compatible products with SSD.\n",
      "oversize intent: Build a PC with Intel i9 Raptor Lake 24 cores, Asus ROG strix Z790 motherboard, Asus TUF Rtx 4090 and remaining all compatible products with SSD.\n",
      "oversize intent: Build a PC with Intel i9 Raptor Lake 24 cores, Asus ROG strix Z790 motherboard, Asus TUF Rtx 4090 and remaining all compatible products with SSD.\n"
     ]
    },
    {
     "name": "stderr",
     "output_type": "stream",
     "text": [
      " 69%|██████▉   | 69/100 [03:11<05:54, 11.45s/it]"
     ]
    },
    {
     "name": "stdout",
     "output_type": "stream",
     "text": [
      "oversize intent: Build a PC with Intel i9 Raptor Lake 24 cores, Asus ROG strix Z790 motherboard, Asus TUF Rtx 4090 and remaining all compatible products with SSD.\n"
     ]
    },
    {
     "name": "stderr",
     "output_type": "stream",
     "text": [
      " 97%|█████████▋| 97/100 [03:46<00:04,  1.58s/it]"
     ]
    },
    {
     "name": "stdout",
     "output_type": "stream",
     "text": [
      "oversize intent: Order one TAHE inflatable stand up paddle board using my default account/shipping info.\n",
      "oversize intent: Order one TAHE inflatable stand up paddle board using my default account/shipping info.\n"
     ]
    },
    {
     "name": "stderr",
     "output_type": "stream",
     "text": [
      "100%|██████████| 100/100 [03:55<00:00,  2.35s/it]\n"
     ]
    },
    {
     "name": "stdout",
     "output_type": "stream",
     "text": [
      "4 30 1860\n"
     ]
    },
    {
     "name": "stderr",
     "output_type": "stream",
     "text": [
      " 22%|██▏       | 22/100 [00:44<02:54,  2.24s/it]"
     ]
    },
    {
     "name": "stdout",
     "output_type": "stream",
     "text": [
      "oversize intent: Find a Lenovo laptop under $800 and create a price alert for $400.\n",
      "oversize intent: Find a Lenovo laptop under $800 and create a price alert for $400.\n",
      "oversize intent: Find a Lenovo laptop under $800 and create a price alert for $400.\n",
      "oversize intent: Find a Lenovo laptop under $800 and create a price alert for $400.\n",
      "oversize intent: Find a Lenovo laptop under $800 and create a price alert for $400.\n"
     ]
    },
    {
     "name": "stderr",
     "output_type": "stream",
     "text": [
      " 23%|██▎       | 23/100 [00:53<05:10,  4.03s/it]"
     ]
    },
    {
     "name": "stdout",
     "output_type": "stream",
     "text": [
      "oversize intent: Find a Lenovo laptop under $800 and create a price alert for $400.\n",
      "oversize intent: Browse laptops with at least 16gb of ram and under $700.\n",
      "oversize intent: Browse laptops with at least 16gb of ram and under $700.\n",
      "oversize intent: Browse laptops with at least 16gb of ram and under $700.\n",
      "oversize intent: Browse laptops with at least 16gb of ram and under $700.\n",
      "oversize intent: Browse laptops with at least 16gb of ram and under $700.\n",
      "oversize intent: Browse laptops with at least 16gb of ram and under $700.\n",
      "oversize intent: Browse laptops with at least 16gb of ram and under $700.\n"
     ]
    },
    {
     "name": "stderr",
     "output_type": "stream",
     "text": [
      " 24%|██▍       | 24/100 [01:11<10:22,  8.20s/it]"
     ]
    },
    {
     "name": "stdout",
     "output_type": "stream",
     "text": [
      "oversize intent: Browse laptops with at least 16gb of ram and under $700.\n"
     ]
    },
    {
     "name": "stderr",
     "output_type": "stream",
     "text": [
      " 43%|████▎     | 43/100 [01:36<01:24,  1.48s/it]"
     ]
    },
    {
     "name": "stdout",
     "output_type": "stream",
     "text": [
      "oversize intent: Find the cheapest 2017 Honda Civic within 100 miles of 07470 which has a sun roof and black exterior color while excluding out of market vehicles\n",
      "oversize intent: Find the cheapest 2017 Honda Civic within 100 miles of 07470 which has a sun roof and black exterior color while excluding out of market vehicles\n",
      "oversize intent: Find the cheapest 2017 Honda Civic within 100 miles of 07470 which has a sun roof and black exterior color while excluding out of market vehicles\n",
      "oversize intent: Find the cheapest 2017 Honda Civic within 100 miles of 07470 which has a sun roof and black exterior color while excluding out of market vehicles\n",
      "oversize intent: Find the cheapest 2017 Honda Civic within 100 miles of 07470 which has a sun roof and black exterior color while excluding out of market vehicles\n",
      "oversize intent: Find the cheapest 2017 Honda Civic within 100 miles of 07470 which has a sun roof and black exterior color while excluding out of market vehicles\n",
      "oversize intent: Find the cheapest 2017 Honda Civic within 100 miles of 07470 which has a sun roof and black exterior color while excluding out of market vehicles\n",
      "oversize intent: Find the cheapest 2017 Honda Civic within 100 miles of 07470 which has a sun roof and black exterior color while excluding out of market vehicles\n",
      "oversize intent: Find the cheapest 2017 Honda Civic within 100 miles of 07470 which has a sun roof and black exterior color while excluding out of market vehicles\n",
      "oversize intent: Find the cheapest 2017 Honda Civic within 100 miles of 07470 which has a sun roof and black exterior color while excluding out of market vehicles\n",
      "oversize intent: Find the cheapest 2017 Honda Civic within 100 miles of 07470 which has a sun roof and black exterior color while excluding out of market vehicles\n",
      "oversize intent: Find the cheapest 2017 Honda Civic within 100 miles of 07470 which has a sun roof and black exterior color while excluding out of market vehicles\n",
      "oversize intent: Find the cheapest 2017 Honda Civic within 100 miles of 07470 which has a sun roof and black exterior color while excluding out of market vehicles\n",
      "oversize intent: Find the cheapest 2017 Honda Civic within 100 miles of 07470 which has a sun roof and black exterior color while excluding out of market vehicles\n",
      "oversize intent: Find the cheapest 2017 Honda Civic within 100 miles of 07470 which has a sun roof and black exterior color while excluding out of market vehicles\n",
      "oversize intent: Find the cheapest 2017 Honda Civic within 100 miles of 07470 which has a sun roof and black exterior color while excluding out of market vehicles\n",
      "oversize intent: Find the cheapest 2017 Honda Civic within 100 miles of 07470 which has a sun roof and black exterior color while excluding out of market vehicles\n",
      "oversize intent: Find the cheapest 2017 Honda Civic within 100 miles of 07470 which has a sun roof and black exterior color while excluding out of market vehicles\n",
      "oversize intent: Find the cheapest 2017 Honda Civic within 100 miles of 07470 which has a sun roof and black exterior color while excluding out of market vehicles\n"
     ]
    },
    {
     "name": "stderr",
     "output_type": "stream",
     "text": [
      " 63%|██████▎   | 63/100 [02:14<00:13,  2.82it/s]"
     ]
    },
    {
     "name": "stdout",
     "output_type": "stream",
     "text": [
      "oversize intent: check the 2022 highest goal scorer in the MLS league\n",
      "oversize intent: check the 2022 highest goal scorer in the MLS league\n"
     ]
    },
    {
     "name": "stderr",
     "output_type": "stream",
     "text": [
      " 65%|██████▌   | 65/100 [02:19<00:44,  1.27s/it]"
     ]
    },
    {
     "name": "stdout",
     "output_type": "stream",
     "text": [
      "oversize intent: Show camping hammocks with lowest price first.\n"
     ]
    },
    {
     "name": "stderr",
     "output_type": "stream",
     "text": [
      " 66%|██████▌   | 66/100 [02:22<01:05,  1.94s/it]"
     ]
    },
    {
     "name": "stdout",
     "output_type": "stream",
     "text": [
      "oversize intent: Show camping hammocks with lowest price first.\n"
     ]
    },
    {
     "name": "stderr",
     "output_type": "stream",
     "text": [
      " 73%|███████▎  | 73/100 [02:33<00:35,  1.32s/it]"
     ]
    },
    {
     "name": "stdout",
     "output_type": "stream",
     "text": [
      "oversize intent: Find the most expensive Sony controller compatible with PS5 with free shipping and add it to my cart.\n",
      "oversize intent: Find the most expensive Sony controller compatible with PS5 with free shipping and add it to my cart.\n",
      "oversize intent: Find the most expensive Sony controller compatible with PS5 with free shipping and add it to my cart.\n",
      "oversize intent: Find the most expensive Sony controller compatible with PS5 with free shipping and add it to my cart.\n",
      "oversize intent: Find the most expensive Sony controller compatible with PS5 with free shipping and add it to my cart.\n",
      "oversize intent: Find the most expensive Sony controller compatible with PS5 with free shipping and add it to my cart.\n",
      "oversize intent: Find the most expensive Sony controller compatible with PS5 with free shipping and add it to my cart.\n",
      "oversize intent: Find the most expensive Sony controller compatible with PS5 with free shipping and add it to my cart.\n"
     ]
    },
    {
     "name": "stderr",
     "output_type": "stream",
     "text": [
      " 74%|███████▍  | 74/100 [02:46<02:05,  4.84s/it]"
     ]
    },
    {
     "name": "stdout",
     "output_type": "stream",
     "text": [
      "oversize intent: Find the most expensive Sony controller compatible with PS5 with free shipping and add it to my cart.\n"
     ]
    },
    {
     "name": "stderr",
     "output_type": "stream",
     "text": [
      " 80%|████████  | 80/100 [02:51<00:27,  1.37s/it]"
     ]
    },
    {
     "name": "stdout",
     "output_type": "stream",
     "text": [
      "oversize intent: Find a Blue iPhone 12 Pro 128gb and add to cart.\n",
      "oversize intent: Find a Blue iPhone 12 Pro 128gb and add to cart.\n"
     ]
    },
    {
     "name": "stderr",
     "output_type": "stream",
     "text": [
      " 84%|████████▍ | 84/100 [03:01<00:34,  2.15s/it]"
     ]
    },
    {
     "name": "stdout",
     "output_type": "stream",
     "text": [
      "oversize intent: Show me the Biography of the NFL player named Michael Jordan\n",
      "oversize intent: Show me the Biography of the NFL player named Michael Jordan\n",
      "oversize intent: Show me the Biography of the NFL player named Michael Jordan\n"
     ]
    },
    {
     "name": "stderr",
     "output_type": "stream",
     "text": [
      " 85%|████████▌ | 85/100 [03:04<00:36,  2.40s/it]"
     ]
    },
    {
     "name": "stdout",
     "output_type": "stream",
     "text": [
      "oversize intent: Find FC Barcelona's next fixture in the Spanish Copa de Rey\n",
      "oversize intent: Find FC Barcelona's next fixture in the Spanish Copa de Rey\n"
     ]
    },
    {
     "name": "stderr",
     "output_type": "stream",
     "text": [
      " 86%|████████▌ | 86/100 [03:07<00:34,  2.47s/it]"
     ]
    },
    {
     "name": "stdout",
     "output_type": "stream",
     "text": [
      "oversize intent: Find the latest news about Mikal Bridges\n",
      "oversize intent: Find the latest news about Mikal Bridges\n"
     ]
    },
    {
     "name": "stderr",
     "output_type": "stream",
     "text": [
      " 87%|████████▋ | 87/100 [03:09<00:33,  2.55s/it]"
     ]
    },
    {
     "name": "stdout",
     "output_type": "stream",
     "text": [
      "oversize intent: Find the latest news about Mikal Bridges\n",
      "oversize intent: Play a podcast about F1\n",
      "oversize intent: Play a podcast about F1\n"
     ]
    },
    {
     "name": "stderr",
     "output_type": "stream",
     "text": [
      "100%|██████████| 100/100 [03:29<00:00,  2.10s/it]\n"
     ]
    },
    {
     "name": "stdout",
     "output_type": "stream",
     "text": [
      "5 26 1968\n"
     ]
    },
    {
     "name": "stderr",
     "output_type": "stream",
     "text": [
      "  0%|          | 0/100 [00:00<?, ?it/s]"
     ]
    },
    {
     "name": "stdout",
     "output_type": "stream",
     "text": [
      "oversize intent: Select an event from the 2019 UFC schedule and show me the full profile from one of the athletes\n",
      "oversize intent: Select an event from the 2019 UFC schedule and show me the full profile from one of the athletes\n"
     ]
    },
    {
     "name": "stderr",
     "output_type": "stream",
     "text": [
      "  4%|▍         | 4/100 [00:09<03:44,  2.34s/it]"
     ]
    },
    {
     "name": "stdout",
     "output_type": "stream",
     "text": [
      "oversize intent: Buy a GoBites Uno Spork in the color magenta and have it delivered to a store in Seattle, WA. Checkout with default address, and use credit number 123456789, CVV 123, expire 01, 2024\n",
      "oversize intent: Buy a GoBites Uno Spork in the color magenta and have it delivered to a store in Seattle, WA. Checkout with default address, and use credit number 123456789, CVV 123, expire 01, 2024\n",
      "oversize intent: Buy a GoBites Uno Spork in the color magenta and have it delivered to a store in Seattle, WA. Checkout with default address, and use credit number 123456789, CVV 123, expire 01, 2024\n",
      "oversize intent: Buy a GoBites Uno Spork in the color magenta and have it delivered to a store in Seattle, WA. Checkout with default address, and use credit number 123456789, CVV 123, expire 01, 2024\n",
      "oversize intent: Buy a GoBites Uno Spork in the color magenta and have it delivered to a store in Seattle, WA. Checkout with default address, and use credit number 123456789, CVV 123, expire 01, 2024\n",
      "oversize intent: Buy a GoBites Uno Spork in the color magenta and have it delivered to a store in Seattle, WA. Checkout with default address, and use credit number 123456789, CVV 123, expire 01, 2024\n",
      "oversize intent: Buy a GoBites Uno Spork in the color magenta and have it delivered to a store in Seattle, WA. Checkout with default address, and use credit number 123456789, CVV 123, expire 01, 2024\n"
     ]
    },
    {
     "name": "stderr",
     "output_type": "stream",
     "text": [
      "  5%|▌         | 5/100 [00:19<07:42,  4.87s/it]"
     ]
    },
    {
     "name": "stdout",
     "output_type": "stream",
     "text": [
      "oversize intent: Browse bluetooth headphones with active noise-cancellation.\n",
      "oversize intent: Browse bluetooth headphones with active noise-cancellation.\n",
      "oversize intent: Browse bluetooth headphones with active noise-cancellation.\n",
      "oversize intent: Browse bluetooth headphones with active noise-cancellation.\n",
      "oversize intent: Browse bluetooth headphones with active noise-cancellation.\n"
     ]
    },
    {
     "name": "stderr",
     "output_type": "stream",
     "text": [
      "  6%|▌         | 6/100 [00:29<10:39,  6.80s/it]"
     ]
    },
    {
     "name": "stdout",
     "output_type": "stream",
     "text": [
      "oversize intent: Browse bluetooth headphones with active noise-cancellation.\n"
     ]
    },
    {
     "name": "stderr",
     "output_type": "stream",
     "text": [
      " 16%|█▌        | 16/100 [00:45<01:47,  1.28s/it]"
     ]
    },
    {
     "name": "stdout",
     "output_type": "stream",
     "text": [
      "oversize intent: Find the schedule for the Dallas Mavericks.\n",
      "oversize intent: Find the schedule for the Dallas Mavericks.\n"
     ]
    },
    {
     "name": "stderr",
     "output_type": "stream",
     "text": [
      " 35%|███▌      | 35/100 [01:09<01:17,  1.19s/it]"
     ]
    },
    {
     "name": "stdout",
     "output_type": "stream",
     "text": [
      "oversize intent: Open the most popular photos of the Adam A-500 model aircraft.\n"
     ]
    },
    {
     "name": "stderr",
     "output_type": "stream",
     "text": [
      " 36%|███▌      | 36/100 [01:11<01:28,  1.39s/it]"
     ]
    },
    {
     "name": "stdout",
     "output_type": "stream",
     "text": [
      "oversize intent: Look up Popular Photos in the Community featuring Aegean Airlines\n"
     ]
    },
    {
     "name": "stderr",
     "output_type": "stream",
     "text": [
      " 48%|████▊     | 48/100 [01:32<01:22,  1.59s/it]"
     ]
    },
    {
     "name": "stdout",
     "output_type": "stream",
     "text": [
      "oversize intent: Find forum threads which include the name Taylor Swift in the title within last month\n"
     ]
    },
    {
     "name": "stderr",
     "output_type": "stream",
     "text": [
      " 71%|███████   | 71/100 [01:55<00:33,  1.17s/it]"
     ]
    },
    {
     "name": "stdout",
     "output_type": "stream",
     "text": [
      "oversize intent: Show me the new arrivals on Easter home decor\n"
     ]
    },
    {
     "name": "stderr",
     "output_type": "stream",
     "text": [
      " 87%|████████▋ | 87/100 [02:23<00:28,  2.18s/it]"
     ]
    },
    {
     "name": "stdout",
     "output_type": "stream",
     "text": [
      "oversize intent: Search for flights from New York City to London and filter the results to show only non-stop flights.\n"
     ]
    },
    {
     "name": "stderr",
     "output_type": "stream",
     "text": [
      " 94%|█████████▍| 94/100 [02:48<00:18,  3.11s/it]"
     ]
    },
    {
     "name": "stdout",
     "output_type": "stream",
     "text": [
      "oversize intent: Upgrade the count of the current SSD in my cart to 10\n",
      "oversize intent: Upgrade the count of the current SSD in my cart to 10\n"
     ]
    },
    {
     "name": "stderr",
     "output_type": "stream",
     "text": [
      " 95%|█████████▌| 95/100 [02:52<00:16,  3.25s/it]"
     ]
    },
    {
     "name": "stdout",
     "output_type": "stream",
     "text": [
      "oversize intent: Upgrade the count of the current SSD in my cart to 10\n"
     ]
    },
    {
     "name": "stderr",
     "output_type": "stream",
     "text": [
      "100%|██████████| 100/100 [02:58<00:00,  1.78s/it]\n"
     ]
    },
    {
     "name": "stdout",
     "output_type": "stream",
     "text": [
      "6 49 2043\n"
     ]
    },
    {
     "name": "stderr",
     "output_type": "stream",
     "text": [
      "  8%|▊         | 8/100 [00:07<02:02,  1.33s/it]"
     ]
    },
    {
     "name": "stdout",
     "output_type": "stream",
     "text": [
      "oversize intent: Find Kevin Durant's bio\n",
      "oversize intent: Find Kevin Durant's bio\n",
      "oversize intent: Find Kevin Durant's bio\n"
     ]
    },
    {
     "name": "stderr",
     "output_type": "stream",
     "text": [
      "  9%|▉         | 9/100 [00:10<02:52,  1.89s/it]"
     ]
    },
    {
     "name": "stdout",
     "output_type": "stream",
     "text": [
      "oversize intent: Find Golden State Warriors Player List.\n",
      "oversize intent: Find Golden State Warriors Player List.\n",
      "oversize intent: Find Golden State Warriors Player List.\n"
     ]
    },
    {
     "name": "stderr",
     "output_type": "stream",
     "text": [
      " 10%|█         | 10/100 [00:14<03:38,  2.43s/it]"
     ]
    },
    {
     "name": "stdout",
     "output_type": "stream",
     "text": [
      "oversize intent: Find the movie which won the jury prize in Cannes 2022, add the director of the movie to the new list named director and add \"to watch\" in the description of that list.\n",
      "oversize intent: Find the movie which won the jury prize in Cannes 2022, add the director of the movie to the new list named director and add \"to watch\" in the description of that list.\n",
      "oversize intent: Find the movie which won the jury prize in Cannes 2022, add the director of the movie to the new list named director and add \"to watch\" in the description of that list.\n",
      "oversize intent: Find the movie which won the jury prize in Cannes 2022, add the director of the movie to the new list named director and add \"to watch\" in the description of that list.\n"
     ]
    },
    {
     "name": "stderr",
     "output_type": "stream",
     "text": [
      " 14%|█▍        | 14/100 [00:21<02:29,  1.74s/it]"
     ]
    },
    {
     "name": "stdout",
     "output_type": "stream",
     "text": [
      "oversize intent: Find the lowest-priced single pack of Xerox genuine magenta toner sold by Newegg with free shipping.\n",
      "oversize intent: Find the lowest-priced single pack of Xerox genuine magenta toner sold by Newegg with free shipping.\n",
      "oversize intent: Find the lowest-priced single pack of Xerox genuine magenta toner sold by Newegg with free shipping.\n",
      "oversize intent: Find the lowest-priced single pack of Xerox genuine magenta toner sold by Newegg with free shipping.\n",
      "oversize intent: Find the lowest-priced single pack of Xerox genuine magenta toner sold by Newegg with free shipping.\n",
      "oversize intent: Find the lowest-priced single pack of Xerox genuine magenta toner sold by Newegg with free shipping.\n",
      "oversize intent: Find the lowest-priced single pack of Xerox genuine magenta toner sold by Newegg with free shipping.\n",
      "oversize intent: Find the lowest-priced single pack of Xerox genuine magenta toner sold by Newegg with free shipping.\n",
      "oversize intent: Find the lowest-priced single pack of Xerox genuine magenta toner sold by Newegg with free shipping.\n"
     ]
    },
    {
     "name": "stderr",
     "output_type": "stream",
     "text": [
      " 15%|█▌        | 15/100 [00:35<07:27,  5.27s/it]"
     ]
    },
    {
     "name": "stdout",
     "output_type": "stream",
     "text": [
      "oversize intent: Find the lowest-priced single pack of Xerox genuine magenta toner sold by Newegg with free shipping.\n"
     ]
    },
    {
     "name": "stderr",
     "output_type": "stream",
     "text": [
      " 18%|█▊        | 18/100 [00:39<03:39,  2.67s/it]"
     ]
    },
    {
     "name": "stdout",
     "output_type": "stream",
     "text": [
      "oversize intent: Show me the NFL Scoreboard from the superbowl 2015\n"
     ]
    },
    {
     "name": "stderr",
     "output_type": "stream",
     "text": [
      " 21%|██        | 21/100 [00:46<02:59,  2.27s/it]"
     ]
    },
    {
     "name": "stdout",
     "output_type": "stream",
     "text": [
      "oversize intent: Find the NBA team with the highest average points scored in the current season\n",
      "oversize intent: Find the NBA team with the highest average points scored in the current season\n"
     ]
    },
    {
     "name": "stderr",
     "output_type": "stream",
     "text": [
      " 32%|███▏      | 32/100 [01:00<01:22,  1.21s/it]"
     ]
    },
    {
     "name": "stdout",
     "output_type": "stream",
     "text": [
      "oversize intent: Show all the external solid state drives available with lowest price first.\n",
      "oversize intent: Show all the external solid state drives available with lowest price first.\n",
      "oversize intent: Show all the external solid state drives available with lowest price first.\n",
      "oversize intent: Show all the external solid state drives available with lowest price first.\n"
     ]
    },
    {
     "name": "stderr",
     "output_type": "stream",
     "text": [
      " 34%|███▍      | 34/100 [01:08<02:43,  2.48s/it]"
     ]
    },
    {
     "name": "stdout",
     "output_type": "stream",
     "text": [
      "oversize intent: Add a smartwatch to the cart that is compatible with an iPhone.\n"
     ]
    },
    {
     "name": "stderr",
     "output_type": "stream",
     "text": [
      " 64%|██████▍   | 64/100 [01:47<01:15,  2.11s/it]"
     ]
    },
    {
     "name": "stdout",
     "output_type": "stream",
     "text": [
      "oversize intent: Find the cheapest new surge protector with 6 to 8 outlets under 25 dollars with customer reviews above 4+, add 2 pieces to the cart.\n",
      "oversize intent: Find the cheapest new surge protector with 6 to 8 outlets under 25 dollars with customer reviews above 4+, add 2 pieces to the cart.\n"
     ]
    },
    {
     "name": "stderr",
     "output_type": "stream",
     "text": [
      " 65%|██████▌   | 65/100 [01:55<02:06,  3.62s/it]"
     ]
    },
    {
     "name": "stdout",
     "output_type": "stream",
     "text": [
      "oversize intent: Find the cheapest new surge protector with 6 to 8 outlets under 25 dollars with customer reviews above 4+, add 2 pieces to the cart.\n",
      "oversize intent: Find a dog bed on Amazon that is machine-washable and has a diameter of at least 30 inches.\n",
      "oversize intent: Find a dog bed on Amazon that is machine-washable and has a diameter of at least 30 inches.\n"
     ]
    },
    {
     "name": "stderr",
     "output_type": "stream",
     "text": [
      " 71%|███████   | 71/100 [02:08<01:09,  2.40s/it]"
     ]
    },
    {
     "name": "stdout",
     "output_type": "stream",
     "text": [
      "oversize intent: Find the cheapest full-sized Amazon basic comforter with 4+ average customer reviews and priced between 50 to 100 dollars, if red color availabe in the cheapest product then add one to the cart.\n",
      "oversize intent: Find the cheapest full-sized Amazon basic comforter with 4+ average customer reviews and priced between 50 to 100 dollars, if red color availabe in the cheapest product then add one to the cart.\n"
     ]
    },
    {
     "name": "stderr",
     "output_type": "stream",
     "text": [
      " 72%|███████▏  | 72/100 [02:15<01:49,  3.91s/it]"
     ]
    },
    {
     "name": "stdout",
     "output_type": "stream",
     "text": [
      "oversize intent: Find the cheapest full-sized Amazon basic comforter with 4+ average customer reviews and priced between 50 to 100 dollars, if red color availabe in the cheapest product then add one to the cart.\n",
      "oversize intent: Show me the stats of the Athletic Club from spanish Laliga\n"
     ]
    },
    {
     "name": "stderr",
     "output_type": "stream",
     "text": [
      " 73%|███████▎  | 73/100 [02:17<01:28,  3.27s/it]"
     ]
    },
    {
     "name": "stdout",
     "output_type": "stream",
     "text": [
      "oversize intent: Who were the NBA season leaders from the 2020-21 regular season?\n"
     ]
    },
    {
     "name": "stderr",
     "output_type": "stream",
     "text": [
      " 74%|███████▍  | 74/100 [02:19<01:14,  2.88s/it]"
     ]
    },
    {
     "name": "stdout",
     "output_type": "stream",
     "text": [
      "oversize intent: Find the Real Madrid team schedule of the UEFA Champions League championship.\n",
      "oversize intent: Find the Real Madrid team schedule of the UEFA Champions League championship.\n",
      "oversize intent: Find the Real Madrid team schedule of the UEFA Champions League championship.\n"
     ]
    },
    {
     "name": "stderr",
     "output_type": "stream",
     "text": [
      " 89%|████████▉ | 89/100 [02:51<00:33,  3.04s/it]"
     ]
    },
    {
     "name": "stdout",
     "output_type": "stream",
     "text": [
      "oversize intent: I want to see the best seller gender neutral skirts\n",
      "oversize intent: I want to see the best seller gender neutral skirts\n"
     ]
    },
    {
     "name": "stderr",
     "output_type": "stream",
     "text": [
      " 97%|█████████▋| 97/100 [03:14<00:12,  4.18s/it]"
     ]
    },
    {
     "name": "stdout",
     "output_type": "stream",
     "text": [
      "oversize intent: Reserve the cheapest hotel with 5 stars and free wifi located in downtown dc in Washington on June 5 for 4 adults in 2 rooms.\n"
     ]
    },
    {
     "name": "stderr",
     "output_type": "stream",
     "text": [
      "100%|██████████| 100/100 [03:17<00:00,  1.97s/it]\n"
     ]
    },
    {
     "name": "stdout",
     "output_type": "stream",
     "text": [
      "7 50 2202\n"
     ]
    },
    {
     "name": "stderr",
     "output_type": "stream",
     "text": [
      " 10%|█         | 10/100 [00:16<02:20,  1.56s/it]"
     ]
    },
    {
     "name": "stdout",
     "output_type": "stream",
     "text": [
      "oversize intent: Find the cheapest Samsung-made and larger than 11-inch screen Android tablet, in the price range of 200 to 300 dollars and add it to the cart.\n",
      "oversize intent: Find the cheapest Samsung-made and larger than 11-inch screen Android tablet, in the price range of 200 to 300 dollars and add it to the cart.\n",
      "oversize intent: Find the cheapest Samsung-made and larger than 11-inch screen Android tablet, in the price range of 200 to 300 dollars and add it to the cart.\n",
      "oversize intent: Find the cheapest Samsung-made and larger than 11-inch screen Android tablet, in the price range of 200 to 300 dollars and add it to the cart.\n",
      "oversize intent: Find the cheapest Samsung-made and larger than 11-inch screen Android tablet, in the price range of 200 to 300 dollars and add it to the cart.\n",
      "oversize intent: Find the cheapest Samsung-made and larger than 11-inch screen Android tablet, in the price range of 200 to 300 dollars and add it to the cart.\n",
      "oversize intent: Find the cheapest Samsung-made and larger than 11-inch screen Android tablet, in the price range of 200 to 300 dollars and add it to the cart.\n",
      "oversize intent: Find the cheapest Samsung-made and larger than 11-inch screen Android tablet, in the price range of 200 to 300 dollars and add it to the cart.\n",
      "oversize intent: Find the cheapest Samsung-made and larger than 11-inch screen Android tablet, in the price range of 200 to 300 dollars and add it to the cart.\n",
      "oversize intent: Find the cheapest Samsung-made and larger than 11-inch screen Android tablet, in the price range of 200 to 300 dollars and add it to the cart.\n"
     ]
    },
    {
     "name": "stderr",
     "output_type": "stream",
     "text": [
      " 11%|█         | 11/100 [00:33<09:43,  6.56s/it]"
     ]
    },
    {
     "name": "stdout",
     "output_type": "stream",
     "text": [
      "oversize intent: Find the cheapest Samsung-made and larger than 11-inch screen Android tablet, in the price range of 200 to 300 dollars and add it to the cart.\n"
     ]
    },
    {
     "name": "stderr",
     "output_type": "stream",
     "text": [
      " 94%|█████████▍| 94/100 [02:35<00:05,  1.07it/s]"
     ]
    },
    {
     "name": "stdout",
     "output_type": "stream",
     "text": [
      "oversize intent: with a $200 budget check available in central parkto check in on 24th to 27th march  for 2 adult and a toddler less than a year old.\n",
      "oversize intent: with a $200 budget check available in central parkto check in on 24th to 27th march  for 2 adult and a toddler less than a year old.\n",
      "oversize intent: with a $200 budget check available in central parkto check in on 24th to 27th march  for 2 adult and a toddler less than a year old.\n",
      "oversize intent: with a $200 budget check available in central parkto check in on 24th to 27th march  for 2 adult and a toddler less than a year old.\n",
      "oversize intent: with a $200 budget check available in central parkto check in on 24th to 27th march  for 2 adult and a toddler less than a year old.\n",
      "oversize intent: with a $200 budget check available in central parkto check in on 24th to 27th march  for 2 adult and a toddler less than a year old.\n",
      "oversize intent: with a $200 budget check available in central parkto check in on 24th to 27th march  for 2 adult and a toddler less than a year old.\n",
      "oversize intent: with a $200 budget check available in central parkto check in on 24th to 27th march  for 2 adult and a toddler less than a year old.\n",
      "oversize intent: with a $200 budget check available in central parkto check in on 24th to 27th march  for 2 adult and a toddler less than a year old.\n",
      "oversize intent: with a $200 budget check available in central parkto check in on 24th to 27th march  for 2 adult and a toddler less than a year old.\n",
      "oversize intent: with a $200 budget check available in central parkto check in on 24th to 27th march  for 2 adult and a toddler less than a year old.\n"
     ]
    },
    {
     "name": "stderr",
     "output_type": "stream",
     "text": [
      " 95%|█████████▌| 95/100 [02:44<00:16,  3.21s/it]"
     ]
    },
    {
     "name": "stdout",
     "output_type": "stream",
     "text": [
      "oversize intent: with a $200 budget check available in central parkto check in on 24th to 27th march  for 2 adult and a toddler less than a year old.\n"
     ]
    },
    {
     "name": "stderr",
     "output_type": "stream",
     "text": [
      "100%|██████████| 100/100 [02:56<00:00,  1.77s/it]\n"
     ]
    },
    {
     "name": "stdout",
     "output_type": "stream",
     "text": [
      "8 46 2208\n"
     ]
    },
    {
     "name": "stderr",
     "output_type": "stream",
     "text": [
      "  1%|          | 1/100 [00:01<01:55,  1.17s/it]"
     ]
    },
    {
     "name": "stdout",
     "output_type": "stream",
     "text": [
      "oversize intent: Create a new list named New that includes thr\n",
      "ee albums, one each from the genres pop, rock and electronic.\n",
      "oversize intent: Create a new list named New that includes thr\n",
      "ee albums, one each from the genres pop, rock and electronic.\n"
     ]
    },
    {
     "name": "stderr",
     "output_type": "stream",
     "text": [
      "  2%|▏         | 2/100 [00:08<07:55,  4.86s/it]"
     ]
    },
    {
     "name": "stdout",
     "output_type": "stream",
     "text": [
      "oversize intent: Find a projector which accepts crypto currency as payment.\n",
      "oversize intent: Find a projector which accepts crypto currency as payment.\n"
     ]
    },
    {
     "name": "stderr",
     "output_type": "stream",
     "text": [
      "  3%|▎         | 3/100 [00:14<08:28,  5.25s/it]"
     ]
    },
    {
     "name": "stdout",
     "output_type": "stream",
     "text": [
      "oversize intent: Find a projector which accepts crypto currency as payment.\n",
      "oversize intent: Find camping tents that can fit 6 people and sort the results by price from low to high.\n"
     ]
    },
    {
     "name": "stderr",
     "output_type": "stream",
     "text": [
      "  4%|▍         | 4/100 [00:17<07:03,  4.41s/it]"
     ]
    },
    {
     "name": "stdout",
     "output_type": "stream",
     "text": [
      "oversize intent: Find camping tents that can fit 6 people and sort the results by price from low to high.\n"
     ]
    },
    {
     "name": "stderr",
     "output_type": "stream",
     "text": [
      "  5%|▌         | 5/100 [00:19<05:47,  3.66s/it]"
     ]
    },
    {
     "name": "stdout",
     "output_type": "stream",
     "text": [
      "oversize intent: Browse camping stoves that have an auto ignition feature.\n",
      "oversize intent: Order the cheapest climbing shoes in today's deals.\n",
      "oversize intent: Order the cheapest climbing shoes in today's deals.\n"
     ]
    },
    {
     "name": "stderr",
     "output_type": "stream",
     "text": [
      "  7%|▋         | 7/100 [00:25<04:41,  3.02s/it]"
     ]
    },
    {
     "name": "stdout",
     "output_type": "stream",
     "text": [
      "oversize intent: Find a gaming desktop with an rtx4000 GPU, available in stock.\n",
      "oversize intent: Find a gaming desktop with an rtx4000 GPU, available in stock.\n",
      "oversize intent: Find a gaming desktop with an rtx4000 GPU, available in stock.\n"
     ]
    },
    {
     "name": "stderr",
     "output_type": "stream",
     "text": [
      "  8%|▊         | 8/100 [00:31<06:09,  4.02s/it]"
     ]
    },
    {
     "name": "stdout",
     "output_type": "stream",
     "text": [
      "oversize intent: Find a gaming desktop with an rtx4000 GPU, available in stock.\n"
     ]
    },
    {
     "name": "stderr",
     "output_type": "stream",
     "text": [
      " 11%|█         | 11/100 [00:37<03:36,  2.43s/it]"
     ]
    },
    {
     "name": "stdout",
     "output_type": "stream",
     "text": [
      "oversize intent: Find a pair of mens running shoes in black, size 7 extra wide, 4+ stars and under $50 and add them to my cart\n",
      "oversize intent: Find a pair of mens running shoes in black, size 7 extra wide, 4+ stars and under $50 and add them to my cart\n",
      "oversize intent: Find a pair of mens running shoes in black, size 7 extra wide, 4+ stars and under $50 and add them to my cart\n"
     ]
    },
    {
     "name": "stderr",
     "output_type": "stream",
     "text": [
      " 12%|█▏        | 12/100 [00:41<04:39,  3.17s/it]"
     ]
    },
    {
     "name": "stdout",
     "output_type": "stream",
     "text": [
      "oversize intent: Find a pair of mens running shoes in black, size 7 extra wide, 4+ stars and under $50 and add them to my cart\n",
      "oversize intent: Browse dog food for puppies that is rated at least 4 stars and sort the results by price from low to high.\n",
      "oversize intent: Browse dog food for puppies that is rated at least 4 stars and sort the results by price from low to high.\n",
      "oversize intent: Browse dog food for puppies that is rated at least 4 stars and sort the results by price from low to high.\n"
     ]
    },
    {
     "name": "stderr",
     "output_type": "stream",
     "text": [
      " 13%|█▎        | 13/100 [00:46<05:01,  3.46s/it]"
     ]
    },
    {
     "name": "stdout",
     "output_type": "stream",
     "text": [
      "oversize intent: Browse dog food for puppies that is rated at least 4 stars and sort the results by price from low to high.\n"
     ]
    },
    {
     "name": "stderr",
     "output_type": "stream",
     "text": [
      " 19%|█▉        | 19/100 [00:51<01:30,  1.12s/it]"
     ]
    },
    {
     "name": "stdout",
     "output_type": "stream",
     "text": [
      "oversize intent: Look for a recently posted part-time Job in Gamestop stores in Fresno, California, and apply.\n"
     ]
    },
    {
     "name": "stderr",
     "output_type": "stream",
     "text": [
      " 39%|███▉      | 39/100 [01:16<00:50,  1.20it/s]"
     ]
    },
    {
     "name": "stdout",
     "output_type": "stream",
     "text": [
      "oversize intent: Find an LED TV below $1000.\n",
      "oversize intent: Find an LED TV below $1000.\n",
      "oversize intent: Find an LED TV below $1000.\n",
      "oversize intent: Find an LED TV below $1000.\n",
      "oversize intent: Find an LED TV below $1000.\n",
      "oversize intent: Find an LED TV below $1000.\n",
      "oversize intent: Find an LED TV below $1000.\n"
     ]
    },
    {
     "name": "stderr",
     "output_type": "stream",
     "text": [
      " 40%|████      | 40/100 [01:29<04:29,  4.49s/it]"
     ]
    },
    {
     "name": "stdout",
     "output_type": "stream",
     "text": [
      "oversize intent: Find an LED TV below $1000.\n",
      "oversize intent: Show the Recommended Gaming PCs for someone who plays Fortnite, Overwatch and GTA V at 4k\n",
      "oversize intent: Show the Recommended Gaming PCs for someone who plays Fortnite, Overwatch and GTA V at 4k\n"
     ]
    },
    {
     "name": "stderr",
     "output_type": "stream",
     "text": [
      " 55%|█████▌    | 55/100 [02:03<01:28,  1.98s/it]"
     ]
    },
    {
     "name": "stdout",
     "output_type": "stream",
     "text": [
      "oversize intent: Find a black sleeping pad that is under $40.\n",
      "oversize intent: Find a black sleeping pad that is under $40.\n"
     ]
    },
    {
     "name": "stderr",
     "output_type": "stream",
     "text": [
      " 56%|█████▌    | 56/100 [02:06<01:47,  2.44s/it]"
     ]
    },
    {
     "name": "stdout",
     "output_type": "stream",
     "text": [
      "oversize intent: Find a black sleeping pad that is under $40.\n"
     ]
    },
    {
     "name": "stderr",
     "output_type": "stream",
     "text": [
      " 98%|█████████▊| 98/100 [03:12<00:03,  1.82s/it]"
     ]
    },
    {
     "name": "stdout",
     "output_type": "stream",
     "text": [
      "oversize intent: Find a Chevrolet with lowest mileage in zip 08817 with shipping charges of 99 dollars or less, with a price between 20k to 30k.\n",
      "oversize intent: Find a Chevrolet with lowest mileage in zip 08817 with shipping charges of 99 dollars or less, with a price between 20k to 30k.\n",
      "oversize intent: Find a Chevrolet with lowest mileage in zip 08817 with shipping charges of 99 dollars or less, with a price between 20k to 30k.\n",
      "oversize intent: Find a Chevrolet with lowest mileage in zip 08817 with shipping charges of 99 dollars or less, with a price between 20k to 30k.\n",
      "oversize intent: Find a Chevrolet with lowest mileage in zip 08817 with shipping charges of 99 dollars or less, with a price between 20k to 30k.\n",
      "oversize intent: Find a Chevrolet with lowest mileage in zip 08817 with shipping charges of 99 dollars or less, with a price between 20k to 30k.\n",
      "oversize intent: Find a Chevrolet with lowest mileage in zip 08817 with shipping charges of 99 dollars or less, with a price between 20k to 30k.\n",
      "oversize intent: Find a Chevrolet with lowest mileage in zip 08817 with shipping charges of 99 dollars or less, with a price between 20k to 30k.\n",
      "oversize intent: Find a Chevrolet with lowest mileage in zip 08817 with shipping charges of 99 dollars or less, with a price between 20k to 30k.\n",
      "oversize intent: Find a Chevrolet with lowest mileage in zip 08817 with shipping charges of 99 dollars or less, with a price between 20k to 30k.\n",
      "oversize intent: Find a Chevrolet with lowest mileage in zip 08817 with shipping charges of 99 dollars or less, with a price between 20k to 30k.\n",
      "oversize intent: Find a Chevrolet with lowest mileage in zip 08817 with shipping charges of 99 dollars or less, with a price between 20k to 30k.\n",
      "oversize intent: Find a Chevrolet with lowest mileage in zip 08817 with shipping charges of 99 dollars or less, with a price between 20k to 30k.\n",
      "oversize intent: Find a Chevrolet with lowest mileage in zip 08817 with shipping charges of 99 dollars or less, with a price between 20k to 30k.\n",
      "oversize intent: Find a Chevrolet with lowest mileage in zip 08817 with shipping charges of 99 dollars or less, with a price between 20k to 30k.\n",
      "oversize intent: Find a Chevrolet with lowest mileage in zip 08817 with shipping charges of 99 dollars or less, with a price between 20k to 30k.\n"
     ]
    },
    {
     "name": "stderr",
     "output_type": "stream",
     "text": [
      " 99%|█████████▉| 99/100 [03:30<00:06,  6.41s/it]"
     ]
    },
    {
     "name": "stdout",
     "output_type": "stream",
     "text": [
      "oversize intent: Find a Chevrolet with lowest mileage in zip 08817 with shipping charges of 99 dollars or less, with a price between 20k to 30k.\n"
     ]
    },
    {
     "name": "stderr",
     "output_type": "stream",
     "text": [
      "100%|██████████| 100/100 [03:31<00:00,  2.11s/it]\n"
     ]
    },
    {
     "name": "stdout",
     "output_type": "stream",
     "text": [
      "9 28 2181\n"
     ]
    },
    {
     "name": "stderr",
     "output_type": "stream",
     "text": [
      "100%|██████████| 9/9 [00:09<00:00,  1.02s/it]"
     ]
    },
    {
     "name": "stdout",
     "output_type": "stream",
     "text": [
      "10 3 138\n"
     ]
    },
    {
     "name": "stderr",
     "output_type": "stream",
     "text": [
      "\n"
     ]
    }
   ],
   "source": [
    "import json\n",
    "import datasets\n",
    "\n",
    "import random\n",
    "from tqdm import tqdm\n",
    "\n",
    "for ID in range(11):\n",
    "    with open(f\"autodl-tmp/train_dataset/train_{ID}.json\") as file:\n",
    "        data = json.load(file)\n",
    "\n",
    "    pos_candidate_na = 0\n",
    "    total_dataset_num = 0\n",
    "    \n",
    "    for dat in tqdm(data):\n",
    "        intent = dat[\"confirmed_task\"] # + f\"(domain {dat['subdomain']})\"\n",
    "        action_history_all = dat[\"action_reprs\"]\n",
    "    \n",
    "        for index, d in enumerate(dat[\"actions\"]):\n",
    "            cleaned_html = d[\"cleaned_html\"].replace(\"backend_node_id\", \"id\")\n",
    "            token_num = len(tokenizer(cleaned_html)[\"input_ids\"])\n",
    "    \n",
    "            if token_num > 120000:\n",
    "                print(f\"oversize intent: {intent}\")\n",
    "            else:\n",
    "                html = cleaned_html\n",
    "                action_history = action_history_all[:index]\n",
    "    \n",
    "                op = d[\"operation\"][\"op\"]\n",
    "                value = d[\"operation\"][\"value\"]\n",
    "                if len(d[\"pos_candidates\"]) > 0:\n",
    "                    chosen_answer_ = output_template.format(op=op, value=value, id=d[\"pos_candidates\"][0][\"backend_node_id\"])\n",
    "                else:\n",
    "                    pos_candidate_na += 1\n",
    "                    continue\n",
    "                \n",
    "                random.shuffle(d[\"neg_candidates\"])\n",
    "                rand_neg_candidates = d[\"neg_candidates\"][:3]\n",
    "                \n",
    "                for c in rand_neg_candidates: # 1:3 proportion\n",
    "                    if op != \"CLICK\" and random.uniform(0, 1) < 0.33: # 1/3 for type/select -> click\n",
    "                        rejected_answer_ = output_template.format(op=\"CLICK\", value=\"\", id=c[\"backend_node_id\"])\n",
    "                    else:\n",
    "                        rejected_answer_ = output_template.format(op=op, value=value, id=c[\"backend_node_id\"])\n",
    "                        \n",
    "                    instruction_ = instruction\n",
    "                    input_ = user_input_template.format(intent=intent, html=html, action_history=action_history)\n",
    "                    output_ = [chosen_answer_, rejected_answer_]\n",
    "                    \n",
    "                    total_dataset_num += 1\n",
    "                    train_dataset.append({\n",
    "                        \"instruction\": instruction_,\n",
    "                        \"input\": input_,\n",
    "                        \"output\": output_\n",
    "                    })\n",
    "\n",
    "    print(ID, pos_candidate_na, total_dataset_num)"
   ]
  },
  {
   "cell_type": "code",
   "execution_count": 9,
   "id": "8672b15d-275d-442f-8333-a27984918539",
   "metadata": {},
   "outputs": [],
   "source": [
    "with open(\"autodl-tmp/mind2web_dpo_train.json\", \"w\") as file:\n",
    "    json.dump(train_dataset, file, indent=4)"
   ]
  },
  {
   "cell_type": "code",
   "execution_count": 10,
   "id": "af2958f0-f889-4ddb-bf6e-fc42e0a65aec",
   "metadata": {},
   "outputs": [],
   "source": [
    "test_task_dataset = []"
   ]
  },
  {
   "cell_type": "code",
   "execution_count": 11,
   "id": "759ca992-da8c-49ca-8aa5-b4bd8cf13fe5",
   "metadata": {},
   "outputs": [
    {
     "name": "stderr",
     "output_type": "stream",
     "text": [
      "  5%|▌         | 5/100 [00:11<03:43,  2.35s/it]"
     ]
    },
    {
     "name": "stdout",
     "output_type": "stream",
     "text": [
      "oversize intent: search gas pickup truck in Fremont with 2010 and 2017 with less than 80000 mile\n",
      "oversize intent: search gas pickup truck in Fremont with 2010 and 2017 with less than 80000 mile\n",
      "oversize intent: search gas pickup truck in Fremont with 2010 and 2017 with less than 80000 mile\n",
      "oversize intent: search gas pickup truck in Fremont with 2010 and 2017 with less than 80000 mile\n",
      "oversize intent: search gas pickup truck in Fremont with 2010 and 2017 with less than 80000 mile\n",
      "oversize intent: search gas pickup truck in Fremont with 2010 and 2017 with less than 80000 mile\n",
      "oversize intent: search gas pickup truck in Fremont with 2010 and 2017 with less than 80000 mile\n",
      "oversize intent: search gas pickup truck in Fremont with 2010 and 2017 with less than 80000 mile\n",
      "oversize intent: search gas pickup truck in Fremont with 2010 and 2017 with less than 80000 mile\n",
      "oversize intent: search gas pickup truck in Fremont with 2010 and 2017 with less than 80000 mile\n",
      "oversize intent: search gas pickup truck in Fremont with 2010 and 2017 with less than 80000 mile\n",
      "oversize intent: search gas pickup truck in Fremont with 2010 and 2017 with less than 80000 mile\n",
      "oversize intent: search gas pickup truck in Fremont with 2010 and 2017 with less than 80000 mile\n",
      "oversize intent: search gas pickup truck in Fremont with 2010 and 2017 with less than 80000 mile\n",
      "oversize intent: search gas pickup truck in Fremont with 2010 and 2017 with less than 80000 mile\n",
      "oversize intent: search gas pickup truck in Fremont with 2010 and 2017 with less than 80000 mile\n"
     ]
    },
    {
     "name": "stderr",
     "output_type": "stream",
     "text": [
      "  6%|▌         | 6/100 [00:28<11:10,  7.13s/it]"
     ]
    },
    {
     "name": "stdout",
     "output_type": "stream",
     "text": [
      "oversize intent: search gas pickup truck in Fremont with 2010 and 2017 with less than 80000 mile\n"
     ]
    },
    {
     "name": "stderr",
     "output_type": "stream",
     "text": [
      " 12%|█▏        | 12/100 [00:43<04:26,  3.02s/it]"
     ]
    },
    {
     "name": "stdout",
     "output_type": "stream",
     "text": [
      "oversize intent: Browse the list of top 250 movies and add the first one to my watchlist.\n",
      "oversize intent: Browse the list of top 250 movies and add the first one to my watchlist.\n"
     ]
    },
    {
     "name": "stderr",
     "output_type": "stream",
     "text": [
      " 13%|█▎        | 13/100 [00:46<04:13,  2.91s/it]"
     ]
    },
    {
     "name": "stdout",
     "output_type": "stream",
     "text": [
      "oversize intent: Browse the list of top 250 movies and add the first one to my watchlist.\n",
      "oversize intent: see Nissan and Honda cars for sale near Kentwood, MI 49512\n",
      "oversize intent: see Nissan and Honda cars for sale near Kentwood, MI 49512\n",
      "oversize intent: see Nissan and Honda cars for sale near Kentwood, MI 49512\n",
      "oversize intent: see Nissan and Honda cars for sale near Kentwood, MI 49512\n",
      "oversize intent: see Nissan and Honda cars for sale near Kentwood, MI 49512\n",
      "oversize intent: see Nissan and Honda cars for sale near Kentwood, MI 49512\n",
      "oversize intent: see Nissan and Honda cars for sale near Kentwood, MI 49512\n"
     ]
    },
    {
     "name": "stderr",
     "output_type": "stream",
     "text": [
      " 14%|█▍        | 14/100 [00:54<06:22,  4.45s/it]"
     ]
    },
    {
     "name": "stdout",
     "output_type": "stream",
     "text": [
      "oversize intent: see Nissan and Honda cars for sale near Kentwood, MI 49512\n",
      "oversize intent: Build an entry-level pc with an windows 11 64 bit intel i7 CPU with a256gb ssd drive +  4gb ram and adding cheapest component and accessories available.\n",
      "oversize intent: Build an entry-level pc with an windows 11 64 bit intel i7 CPU with a256gb ssd drive +  4gb ram and adding cheapest component and accessories available.\n",
      "oversize intent: Build an entry-level pc with an windows 11 64 bit intel i7 CPU with a256gb ssd drive +  4gb ram and adding cheapest component and accessories available.\n",
      "oversize intent: Build an entry-level pc with an windows 11 64 bit intel i7 CPU with a256gb ssd drive +  4gb ram and adding cheapest component and accessories available.\n",
      "oversize intent: Build an entry-level pc with an windows 11 64 bit intel i7 CPU with a256gb ssd drive +  4gb ram and adding cheapest component and accessories available.\n",
      "oversize intent: Build an entry-level pc with an windows 11 64 bit intel i7 CPU with a256gb ssd drive +  4gb ram and adding cheapest component and accessories available.\n",
      "oversize intent: Build an entry-level pc with an windows 11 64 bit intel i7 CPU with a256gb ssd drive +  4gb ram and adding cheapest component and accessories available.\n",
      "oversize intent: Build an entry-level pc with an windows 11 64 bit intel i7 CPU with a256gb ssd drive +  4gb ram and adding cheapest component and accessories available.\n",
      "oversize intent: Build an entry-level pc with an windows 11 64 bit intel i7 CPU with a256gb ssd drive +  4gb ram and adding cheapest component and accessories available.\n",
      "oversize intent: Build an entry-level pc with an windows 11 64 bit intel i7 CPU with a256gb ssd drive +  4gb ram and adding cheapest component and accessories available.\n",
      "oversize intent: Build an entry-level pc with an windows 11 64 bit intel i7 CPU with a256gb ssd drive +  4gb ram and adding cheapest component and accessories available.\n",
      "oversize intent: Build an entry-level pc with an windows 11 64 bit intel i7 CPU with a256gb ssd drive +  4gb ram and adding cheapest component and accessories available.\n",
      "oversize intent: Build an entry-level pc with an windows 11 64 bit intel i7 CPU with a256gb ssd drive +  4gb ram and adding cheapest component and accessories available.\n",
      "oversize intent: Build an entry-level pc with an windows 11 64 bit intel i7 CPU with a256gb ssd drive +  4gb ram and adding cheapest component and accessories available.\n",
      "oversize intent: Build an entry-level pc with an windows 11 64 bit intel i7 CPU with a256gb ssd drive +  4gb ram and adding cheapest component and accessories available.\n",
      "oversize intent: Build an entry-level pc with an windows 11 64 bit intel i7 CPU with a256gb ssd drive +  4gb ram and adding cheapest component and accessories available.\n",
      "oversize intent: Build an entry-level pc with an windows 11 64 bit intel i7 CPU with a256gb ssd drive +  4gb ram and adding cheapest component and accessories available.\n",
      "oversize intent: Build an entry-level pc with an windows 11 64 bit intel i7 CPU with a256gb ssd drive +  4gb ram and adding cheapest component and accessories available.\n",
      "oversize intent: Build an entry-level pc with an windows 11 64 bit intel i7 CPU with a256gb ssd drive +  4gb ram and adding cheapest component and accessories available.\n",
      "oversize intent: Build an entry-level pc with an windows 11 64 bit intel i7 CPU with a256gb ssd drive +  4gb ram and adding cheapest component and accessories available.\n",
      "oversize intent: Build an entry-level pc with an windows 11 64 bit intel i7 CPU with a256gb ssd drive +  4gb ram and adding cheapest component and accessories available.\n",
      "oversize intent: Build an entry-level pc with an windows 11 64 bit intel i7 CPU with a256gb ssd drive +  4gb ram and adding cheapest component and accessories available.\n",
      "oversize intent: Build an entry-level pc with an windows 11 64 bit intel i7 CPU with a256gb ssd drive +  4gb ram and adding cheapest component and accessories available.\n",
      "oversize intent: Build an entry-level pc with an windows 11 64 bit intel i7 CPU with a256gb ssd drive +  4gb ram and adding cheapest component and accessories available.\n",
      "oversize intent: Build an entry-level pc with an windows 11 64 bit intel i7 CPU with a256gb ssd drive +  4gb ram and adding cheapest component and accessories available.\n",
      "oversize intent: Build an entry-level pc with an windows 11 64 bit intel i7 CPU with a256gb ssd drive +  4gb ram and adding cheapest component and accessories available.\n",
      "oversize intent: Build an entry-level pc with an windows 11 64 bit intel i7 CPU with a256gb ssd drive +  4gb ram and adding cheapest component and accessories available.\n",
      "oversize intent: Build an entry-level pc with an windows 11 64 bit intel i7 CPU with a256gb ssd drive +  4gb ram and adding cheapest component and accessories available.\n",
      "oversize intent: Build an entry-level pc with an windows 11 64 bit intel i7 CPU with a256gb ssd drive +  4gb ram and adding cheapest component and accessories available.\n",
      "oversize intent: Build an entry-level pc with an windows 11 64 bit intel i7 CPU with a256gb ssd drive +  4gb ram and adding cheapest component and accessories available.\n",
      "oversize intent: Build an entry-level pc with an windows 11 64 bit intel i7 CPU with a256gb ssd drive +  4gb ram and adding cheapest component and accessories available.\n",
      "oversize intent: Build an entry-level pc with an windows 11 64 bit intel i7 CPU with a256gb ssd drive +  4gb ram and adding cheapest component and accessories available.\n",
      "oversize intent: Build an entry-level pc with an windows 11 64 bit intel i7 CPU with a256gb ssd drive +  4gb ram and adding cheapest component and accessories available.\n",
      "oversize intent: Build an entry-level pc with an windows 11 64 bit intel i7 CPU with a256gb ssd drive +  4gb ram and adding cheapest component and accessories available.\n",
      "oversize intent: Build an entry-level pc with an windows 11 64 bit intel i7 CPU with a256gb ssd drive +  4gb ram and adding cheapest component and accessories available.\n",
      "oversize intent: Build an entry-level pc with an windows 11 64 bit intel i7 CPU with a256gb ssd drive +  4gb ram and adding cheapest component and accessories available.\n",
      "oversize intent: Build an entry-level pc with an windows 11 64 bit intel i7 CPU with a256gb ssd drive +  4gb ram and adding cheapest component and accessories available.\n"
     ]
    },
    {
     "name": "stderr",
     "output_type": "stream",
     "text": [
      " 15%|█▌        | 15/100 [01:49<28:16, 19.96s/it]"
     ]
    },
    {
     "name": "stdout",
     "output_type": "stream",
     "text": [
      "oversize intent: Build an entry-level pc with an windows 11 64 bit intel i7 CPU with a256gb ssd drive +  4gb ram and adding cheapest component and accessories available.\n",
      "oversize intent: Find 32\" Curved monitor and add the third one to the wish list.\n",
      "oversize intent: Find 32\" Curved monitor and add the third one to the wish list.\n",
      "oversize intent: Find 32\" Curved monitor and add the third one to the wish list.\n"
     ]
    },
    {
     "name": "stderr",
     "output_type": "stream",
     "text": [
      " 16%|█▌        | 16/100 [01:56<22:18, 15.94s/it]"
     ]
    },
    {
     "name": "stdout",
     "output_type": "stream",
     "text": [
      "oversize intent: Find 32\" Curved monitor and add the third one to the wish list.\n"
     ]
    },
    {
     "name": "stderr",
     "output_type": "stream",
     "text": [
      " 27%|██▋       | 27/100 [02:13<01:40,  1.38s/it]"
     ]
    },
    {
     "name": "stdout",
     "output_type": "stream",
     "text": [
      "oversize intent: check available hotels with one room for two adult in Harlem less than $200 to check in on Mar 17th and check out on Mar 20th\n",
      "oversize intent: check available hotels with one room for two adult in Harlem less than $200 to check in on Mar 17th and check out on Mar 20th\n",
      "oversize intent: check available hotels with one room for two adult in Harlem less than $200 to check in on Mar 17th and check out on Mar 20th\n",
      "oversize intent: check available hotels with one room for two adult in Harlem less than $200 to check in on Mar 17th and check out on Mar 20th\n",
      "oversize intent: check available hotels with one room for two adult in Harlem less than $200 to check in on Mar 17th and check out on Mar 20th\n",
      "oversize intent: check available hotels with one room for two adult in Harlem less than $200 to check in on Mar 17th and check out on Mar 20th\n",
      "oversize intent: check available hotels with one room for two adult in Harlem less than $200 to check in on Mar 17th and check out on Mar 20th\n"
     ]
    },
    {
     "name": "stderr",
     "output_type": "stream",
     "text": [
      " 28%|██▊       | 28/100 [02:18<03:12,  2.67s/it]"
     ]
    },
    {
     "name": "stdout",
     "output_type": "stream",
     "text": [
      "oversize intent: check available hotels with one room for two adult in Harlem less than $200 to check in on Mar 17th and check out on Mar 20th\n"
     ]
    },
    {
     "name": "stderr",
     "output_type": "stream",
     "text": [
      " 45%|████▌     | 45/100 [02:52<02:31,  2.75s/it]"
     ]
    },
    {
     "name": "stdout",
     "output_type": "stream",
     "text": [
      "oversize intent: Look for an intern career within Newegg in City of Industry, California, USA, and bookmark it.\n"
     ]
    },
    {
     "name": "stderr",
     "output_type": "stream",
     "text": [
      " 57%|█████▋    | 57/100 [03:10<00:48,  1.13s/it]"
     ]
    },
    {
     "name": "stdout",
     "output_type": "stream",
     "text": [
      "oversize intent: Find the most wanted contemporary Jazz album in the US from the last decade.\n"
     ]
    },
    {
     "name": "stderr",
     "output_type": "stream",
     "text": [
      " 64%|██████▍   | 64/100 [03:22<01:02,  1.73s/it]"
     ]
    },
    {
     "name": "stdout",
     "output_type": "stream",
     "text": [
      "oversize intent: Check travel requirements for trips between Tokyo and Guangzhou.\n",
      "oversize intent: Check travel requirements for trips between Tokyo and Guangzhou.\n",
      "oversize intent: Check travel requirements for trips between Tokyo and Guangzhou.\n",
      "oversize intent: Check travel requirements for trips between Tokyo and Guangzhou.\n"
     ]
    },
    {
     "name": "stderr",
     "output_type": "stream",
     "text": [
      " 65%|██████▌   | 65/100 [03:26<01:23,  2.38s/it]"
     ]
    },
    {
     "name": "stdout",
     "output_type": "stream",
     "text": [
      "oversize intent: Check travel requirements for trips between Tokyo and Guangzhou.\n"
     ]
    },
    {
     "name": "stderr",
     "output_type": "stream",
     "text": [
      " 72%|███████▏  | 72/100 [03:40<00:56,  2.00s/it]"
     ]
    },
    {
     "name": "stdout",
     "output_type": "stream",
     "text": [
      "oversize intent: Find the top number one track by the artist \"Alan Tam\" of all time.\n"
     ]
    },
    {
     "name": "stderr",
     "output_type": "stream",
     "text": [
      " 85%|████████▌ | 85/100 [04:00<00:27,  1.86s/it]"
     ]
    },
    {
     "name": "stdout",
     "output_type": "stream",
     "text": [
      "oversize intent: Set the first recommended song on the homepage as a current obsession\n"
     ]
    },
    {
     "name": "stderr",
     "output_type": "stream",
     "text": [
      " 97%|█████████▋| 97/100 [04:21<00:05,  1.96s/it]"
     ]
    },
    {
     "name": "stdout",
     "output_type": "stream",
     "text": [
      "oversize intent: Find Chevrolet Silverado with black exterior color and maximum value of $30,000.\n",
      "oversize intent: Find Chevrolet Silverado with black exterior color and maximum value of $30,000.\n",
      "oversize intent: Find Chevrolet Silverado with black exterior color and maximum value of $30,000.\n",
      "oversize intent: Find Chevrolet Silverado with black exterior color and maximum value of $30,000.\n",
      "oversize intent: Find Chevrolet Silverado with black exterior color and maximum value of $30,000.\n",
      "oversize intent: Find Chevrolet Silverado with black exterior color and maximum value of $30,000.\n"
     ]
    },
    {
     "name": "stderr",
     "output_type": "stream",
     "text": [
      " 98%|█████████▊| 98/100 [04:30<00:08,  4.01s/it]"
     ]
    },
    {
     "name": "stdout",
     "output_type": "stream",
     "text": [
      "oversize intent: Find Chevrolet Silverado with black exterior color and maximum value of $30,000.\n"
     ]
    },
    {
     "name": "stderr",
     "output_type": "stream",
     "text": [
      "100%|██████████| 100/100 [04:35<00:00,  2.76s/it]\n"
     ]
    },
    {
     "name": "stdout",
     "output_type": "stream",
     "text": [
      "0 56 680\n"
     ]
    },
    {
     "name": "stderr",
     "output_type": "stream",
     "text": [
      "  1%|          | 1/100 [00:03<06:21,  3.85s/it]"
     ]
    },
    {
     "name": "stdout",
     "output_type": "stream",
     "text": [
      "oversize intent: Add a pair of large Yaktrax traction cleats to the cart.\n"
     ]
    },
    {
     "name": "stderr",
     "output_type": "stream",
     "text": [
      "  2%|▏         | 2/100 [00:08<07:27,  4.56s/it]"
     ]
    },
    {
     "name": "stdout",
     "output_type": "stream",
     "text": [
      "oversize intent: Add a pair of large Yaktrax traction cleats to the cart.\n"
     ]
    },
    {
     "name": "stderr",
     "output_type": "stream",
     "text": [
      "  6%|▌         | 6/100 [00:12<02:35,  1.66s/it]"
     ]
    },
    {
     "name": "stdout",
     "output_type": "stream",
     "text": [
      "oversize intent: Show crazy credits for the movie \" Prometheus\".\n"
     ]
    },
    {
     "name": "stderr",
     "output_type": "stream",
     "text": [
      "  7%|▋         | 7/100 [00:14<02:18,  1.49s/it]"
     ]
    },
    {
     "name": "stdout",
     "output_type": "stream",
     "text": [
      "oversize intent: Find the most popular movies and showcase those with the highest IMDb ratings.\n"
     ]
    },
    {
     "name": "stderr",
     "output_type": "stream",
     "text": [
      "  8%|▊         | 8/100 [00:15<02:26,  1.59s/it]"
     ]
    },
    {
     "name": "stdout",
     "output_type": "stream",
     "text": [
      "oversize intent: Find the statistics of the player Cristiano Ronaldo for the national team of Portugal in all the world cups.\n",
      "oversize intent: Find the statistics of the player Cristiano Ronaldo for the national team of Portugal in all the world cups.\n",
      "oversize intent: Find the statistics of the player Cristiano Ronaldo for the national team of Portugal in all the world cups.\n"
     ]
    },
    {
     "name": "stderr",
     "output_type": "stream",
     "text": [
      "  9%|▉         | 9/100 [00:20<03:45,  2.48s/it]"
     ]
    },
    {
     "name": "stdout",
     "output_type": "stream",
     "text": [
      "oversize intent: Check the Italian Serie A Schedule fixtures on April 8th 2023\n",
      "oversize intent: Check the Italian Serie A Schedule fixtures on April 8th 2023\n",
      "oversize intent: Check the Italian Serie A Schedule fixtures on April 8th 2023\n",
      "oversize intent: Check the Italian Serie A Schedule fixtures on April 8th 2023\n"
     ]
    },
    {
     "name": "stderr",
     "output_type": "stream",
     "text": [
      " 10%|█         | 10/100 [00:26<05:17,  3.53s/it]"
     ]
    },
    {
     "name": "stdout",
     "output_type": "stream",
     "text": [
      "oversize intent: Check the Italian Serie A Schedule fixtures on April 8th 2023\n",
      "oversize intent: Make a build list with AI for a gaming pc with ryzen 9,rtx 6950xt and  price $2000-$2500.\n",
      "oversize intent: Make a build list with AI for a gaming pc with ryzen 9,rtx 6950xt and  price $2000-$2500.\n",
      "oversize intent: Make a build list with AI for a gaming pc with ryzen 9,rtx 6950xt and  price $2000-$2500.\n"
     ]
    },
    {
     "name": "stderr",
     "output_type": "stream",
     "text": [
      " 12%|█▏        | 12/100 [00:33<05:10,  3.53s/it]"
     ]
    },
    {
     "name": "stdout",
     "output_type": "stream",
     "text": [
      "oversize intent: Get the lowest priced women's plus size one piece swimsuit in color black with customer rating of atleat 5.\n"
     ]
    },
    {
     "name": "stderr",
     "output_type": "stream",
     "text": [
      " 28%|██▊       | 28/100 [01:06<02:14,  1.86s/it]"
     ]
    },
    {
     "name": "stdout",
     "output_type": "stream",
     "text": [
      "oversize intent: Search for job in Miami Florida in Human resources.\n",
      "oversize intent: Search for job in Miami Florida in Human resources.\n",
      "oversize intent: Search for job in Miami Florida in Human resources.\n"
     ]
    },
    {
     "name": "stderr",
     "output_type": "stream",
     "text": [
      " 39%|███▉      | 39/100 [01:31<02:00,  1.98s/it]"
     ]
    },
    {
     "name": "stdout",
     "output_type": "stream",
     "text": [
      "oversize intent: Find a new drone priced between 25 to 50 dollar and ships from USA with average customer rating of 4 and upwards and save the search at the end.\n",
      "oversize intent: Find a new drone priced between 25 to 50 dollar and ships from USA with average customer rating of 4 and upwards and save the search at the end.\n",
      "oversize intent: Find a new drone priced between 25 to 50 dollar and ships from USA with average customer rating of 4 and upwards and save the search at the end.\n",
      "oversize intent: Find a new drone priced between 25 to 50 dollar and ships from USA with average customer rating of 4 and upwards and save the search at the end.\n",
      "oversize intent: Find a new drone priced between 25 to 50 dollar and ships from USA with average customer rating of 4 and upwards and save the search at the end.\n",
      "oversize intent: Find a new drone priced between 25 to 50 dollar and ships from USA with average customer rating of 4 and upwards and save the search at the end.\n",
      "oversize intent: Find a new drone priced between 25 to 50 dollar and ships from USA with average customer rating of 4 and upwards and save the search at the end.\n",
      "oversize intent: Find a new drone priced between 25 to 50 dollar and ships from USA with average customer rating of 4 and upwards and save the search at the end.\n",
      "oversize intent: Find a new drone priced between 25 to 50 dollar and ships from USA with average customer rating of 4 and upwards and save the search at the end.\n",
      "oversize intent: Find a new drone priced between 25 to 50 dollar and ships from USA with average customer rating of 4 and upwards and save the search at the end.\n",
      "oversize intent: Find a new drone priced between 25 to 50 dollar and ships from USA with average customer rating of 4 and upwards and save the search at the end.\n",
      "oversize intent: Find a new drone priced between 25 to 50 dollar and ships from USA with average customer rating of 4 and upwards and save the search at the end.\n"
     ]
    },
    {
     "name": "stderr",
     "output_type": "stream",
     "text": [
      " 40%|████      | 40/100 [01:53<08:09,  8.15s/it]"
     ]
    },
    {
     "name": "stdout",
     "output_type": "stream",
     "text": [
      "oversize intent: Find a new drone priced between 25 to 50 dollar and ships from USA with average customer rating of 4 and upwards and save the search at the end.\n"
     ]
    },
    {
     "name": "stderr",
     "output_type": "stream",
     "text": [
      " 41%|████      | 41/100 [01:56<06:17,  6.40s/it]"
     ]
    },
    {
     "name": "stdout",
     "output_type": "stream",
     "text": [
      "oversize intent: Find a resort near Patong beach in Phuket, Thailand nearest to the airport from May 9 to May 12 for two with a pay-later option.\n",
      "oversize intent: Find a resort near Patong beach in Phuket, Thailand nearest to the airport from May 9 to May 12 for two with a pay-later option.\n",
      "oversize intent: Find a resort near Patong beach in Phuket, Thailand nearest to the airport from May 9 to May 12 for two with a pay-later option.\n",
      "oversize intent: Find a resort near Patong beach in Phuket, Thailand nearest to the airport from May 9 to May 12 for two with a pay-later option.\n",
      "oversize intent: Find a resort near Patong beach in Phuket, Thailand nearest to the airport from May 9 to May 12 for two with a pay-later option.\n"
     ]
    },
    {
     "name": "stderr",
     "output_type": "stream",
     "text": [
      " 42%|████▏     | 42/100 [02:02<06:11,  6.40s/it]"
     ]
    },
    {
     "name": "stdout",
     "output_type": "stream",
     "text": [
      "oversize intent: Browse the clearance section and filter for women's dresses in size small.\n",
      "oversize intent: Browse the clearance section and filter for women's dresses in size small.\n",
      "oversize intent: Browse the clearance section and filter for women's dresses in size small.\n"
     ]
    },
    {
     "name": "stderr",
     "output_type": "stream",
     "text": [
      " 66%|██████▌   | 66/100 [02:37<00:39,  1.17s/it]"
     ]
    },
    {
     "name": "stdout",
     "output_type": "stream",
     "text": [
      "oversize intent: Find Toyota Corolla from the year 2018 to 2023 in red color.\n",
      "oversize intent: Find Toyota Corolla from the year 2018 to 2023 in red color.\n",
      "oversize intent: Find Toyota Corolla from the year 2018 to 2023 in red color.\n",
      "oversize intent: Find Toyota Corolla from the year 2018 to 2023 in red color.\n",
      "oversize intent: Find Toyota Corolla from the year 2018 to 2023 in red color.\n",
      "oversize intent: Find Toyota Corolla from the year 2018 to 2023 in red color.\n"
     ]
    },
    {
     "name": "stderr",
     "output_type": "stream",
     "text": [
      " 67%|██████▋   | 67/100 [02:44<01:31,  2.78s/it]"
     ]
    },
    {
     "name": "stdout",
     "output_type": "stream",
     "text": [
      "oversize intent: Find Toyota Corolla from the year 2018 to 2023 in red color.\n"
     ]
    },
    {
     "name": "stderr",
     "output_type": "stream",
     "text": [
      " 70%|███████   | 70/100 [02:50<01:15,  2.51s/it]"
     ]
    },
    {
     "name": "stdout",
     "output_type": "stream",
     "text": [
      "oversize intent: What are the upcoming soccer events on ESPN2?\n",
      "oversize intent: What are the upcoming soccer events on ESPN2?\n"
     ]
    },
    {
     "name": "stderr",
     "output_type": "stream",
     "text": [
      " 71%|███████   | 71/100 [02:53<01:09,  2.38s/it]"
     ]
    },
    {
     "name": "stdout",
     "output_type": "stream",
     "text": [
      "oversize intent: Find the team schedule of the Brooklyn Nets\n",
      "oversize intent: Find the team schedule of the Brooklyn Nets\n"
     ]
    },
    {
     "name": "stderr",
     "output_type": "stream",
     "text": [
      " 73%|███████▎  | 73/100 [02:56<00:55,  2.06s/it]"
     ]
    },
    {
     "name": "stdout",
     "output_type": "stream",
     "text": [
      "oversize intent: Find travel requirements from Amsterdam to Cairo.\n",
      "oversize intent: Find travel requirements from Amsterdam to Cairo.\n",
      "oversize intent: Find travel requirements from Amsterdam to Cairo.\n",
      "oversize intent: Find travel requirements from Amsterdam to Cairo.\n"
     ]
    },
    {
     "name": "stderr",
     "output_type": "stream",
     "text": [
      " 74%|███████▍  | 74/100 [03:00<01:08,  2.64s/it]"
     ]
    },
    {
     "name": "stdout",
     "output_type": "stream",
     "text": [
      "oversize intent: Find travel requirements from Amsterdam to Cairo.\n"
     ]
    },
    {
     "name": "stderr",
     "output_type": "stream",
     "text": [
      " 99%|█████████▉| 99/100 [03:39<00:01,  1.22s/it]"
     ]
    },
    {
     "name": "stdout",
     "output_type": "stream",
     "text": [
      "oversize intent: upvote a comment on the most relevant kiss chords & tabs\n"
     ]
    },
    {
     "name": "stderr",
     "output_type": "stream",
     "text": [
      "100%|██████████| 100/100 [03:40<00:00,  2.21s/it]\n"
     ]
    },
    {
     "name": "stdout",
     "output_type": "stream",
     "text": [
      "1 29 713\n"
     ]
    },
    {
     "name": "stderr",
     "output_type": "stream",
     "text": [
      "  6%|▌         | 3/52 [00:05<01:22,  1.67s/it]"
     ]
    },
    {
     "name": "stdout",
     "output_type": "stream",
     "text": [
      "oversize intent: Search for the playlists \"Pop Workout mix\" and filtered by tag #Dance & edm.\n"
     ]
    },
    {
     "name": "stderr",
     "output_type": "stream",
     "text": [
      " 35%|███▍      | 18/52 [00:42<01:18,  2.32s/it]"
     ]
    },
    {
     "name": "stdout",
     "output_type": "stream",
     "text": [
      "oversize intent: Find bluetooth vertical mouse with most reviews and add two to my shopping cart..\n",
      "oversize intent: Find bluetooth vertical mouse with most reviews and add two to my shopping cart..\n",
      "oversize intent: Find bluetooth vertical mouse with most reviews and add two to my shopping cart..\n",
      "oversize intent: Find bluetooth vertical mouse with most reviews and add two to my shopping cart..\n",
      "oversize intent: Find bluetooth vertical mouse with most reviews and add two to my shopping cart..\n",
      "oversize intent: Find bluetooth vertical mouse with most reviews and add two to my shopping cart..\n"
     ]
    },
    {
     "name": "stderr",
     "output_type": "stream",
     "text": [
      " 37%|███▋      | 19/52 [00:53<02:40,  4.86s/it]"
     ]
    },
    {
     "name": "stdout",
     "output_type": "stream",
     "text": [
      "oversize intent: Find bluetooth vertical mouse with most reviews and add two to my shopping cart..\n"
     ]
    },
    {
     "name": "stderr",
     "output_type": "stream",
     "text": [
      " 56%|█████▌    | 29/52 [01:05<00:49,  2.15s/it]"
     ]
    },
    {
     "name": "stdout",
     "output_type": "stream",
     "text": [
      "oversize intent: Add a set of wireless headphones to your cart with a budget of $100 or less, that has an active noise-cancelling feature.\n"
     ]
    },
    {
     "name": "stderr",
     "output_type": "stream",
     "text": [
      " 96%|█████████▌| 50/52 [01:38<00:03,  1.51s/it]"
     ]
    },
    {
     "name": "stdout",
     "output_type": "stream",
     "text": [
      "oversize intent: Show me products from Calvin Klein brand menswear list.\n"
     ]
    },
    {
     "name": "stderr",
     "output_type": "stream",
     "text": [
      " 98%|█████████▊| 51/52 [01:38<00:01,  1.31s/it]"
     ]
    },
    {
     "name": "stdout",
     "output_type": "stream",
     "text": [
      "oversize intent: Add the cheapest SSD to my cart\n",
      "oversize intent: Add the cheapest SSD to my cart\n",
      "oversize intent: Add the cheapest SSD to my cart\n"
     ]
    },
    {
     "name": "stderr",
     "output_type": "stream",
     "text": [
      "100%|██████████| 52/52 [01:46<00:00,  2.06s/it]"
     ]
    },
    {
     "name": "stdout",
     "output_type": "stream",
     "text": [
      "oversize intent: Add the cheapest SSD to my cart\n",
      "2 16 435\n"
     ]
    },
    {
     "name": "stderr",
     "output_type": "stream",
     "text": [
      "\n"
     ]
    }
   ],
   "source": [
    "import json\n",
    "import datasets\n",
    "\n",
    "import random\n",
    "from tqdm import tqdm\n",
    "\n",
    "for ID in range(3):\n",
    "    with open(f\"autodl-tmp/test_dataset/test_task/test_task_{ID}.json\") as file:\n",
    "        data = json.load(file)\n",
    "\n",
    "    pos_candidate_na = 0\n",
    "    total_dataset_num = 0\n",
    "    \n",
    "    for dat in tqdm(data):\n",
    "        intent = dat[\"confirmed_task\"] # + f\"(domain {dat['subdomain']})\"\n",
    "        action_history_all = dat[\"action_reprs\"]\n",
    "    \n",
    "        for index, d in enumerate(dat[\"actions\"]):\n",
    "            cleaned_html = d[\"cleaned_html\"].replace(\"backend_node_id\", \"id\")\n",
    "            token_num = len(tokenizer(cleaned_html)[\"input_ids\"])\n",
    "    \n",
    "            if token_num > 120000:\n",
    "                print(f\"oversize intent: {intent}\")\n",
    "            else:\n",
    "                html = cleaned_html\n",
    "                action_history = action_history_all[:index]\n",
    "    \n",
    "                op = d[\"operation\"][\"op\"]\n",
    "                value = d[\"operation\"][\"value\"]\n",
    "                if len(d[\"pos_candidates\"]) > 0:\n",
    "                    chosen_answer_ = output_template.format(op=op, value=value, id=d[\"pos_candidates\"][0][\"backend_node_id\"])\n",
    "                else:\n",
    "                    pos_candidate_na += 1\n",
    "                    continue\n",
    "                \n",
    "                # random.shuffle(d[\"neg_candidates\"])\n",
    "                # rand_neg_candidates = d[\"neg_candidates\"][:3]\n",
    "                \n",
    "                # for c in rand_neg_candidates: # 1:3 proportion\n",
    "                #     if op != \"CLICK\" and random.uniform(0, 1) < 0.33: # 1/3 for type/select -> click\n",
    "                #         rejected_answer_ = output_template.format(op=\"CLICK\", value=\"\", id=c[\"backend_node_id\"])\n",
    "                #     else:\n",
    "                #         rejected_answer_ = output_template.format(op=op, value=value, id=c[\"backend_node_id\"])\n",
    "                        \n",
    "                instruction_ = instruction\n",
    "                input_ = user_input_template.format(intent=intent, html=html, action_history=action_history)\n",
    "                output_ = chosen_answer_\n",
    "                \n",
    "                total_dataset_num += 1\n",
    "                test_task_dataset.append({\n",
    "                    \"instruction\": instruction_,\n",
    "                    \"input\": input_,\n",
    "                    \"output\": output_\n",
    "                })\n",
    "\n",
    "    print(ID, pos_candidate_na, total_dataset_num)"
   ]
  },
  {
   "cell_type": "code",
   "execution_count": 12,
   "id": "46f8126c-89f5-4d81-b00a-a03a8c2d3725",
   "metadata": {},
   "outputs": [],
   "source": [
    "with open(\"autodl-tmp/mind2web_dpo_test_task.json\", \"w\") as file:\n",
    "    json.dump(test_task_dataset, file, indent=4)"
   ]
  },
  {
   "cell_type": "code",
   "execution_count": null,
   "id": "da678c74-ab4a-481a-b174-02d4ad6c0258",
   "metadata": {},
   "outputs": [],
   "source": []
  }
 ],
 "metadata": {
  "kernelspec": {
   "display_name": "Python 3 (ipykernel)",
   "language": "python",
   "name": "python3"
  },
  "language_info": {
   "codemirror_mode": {
    "name": "ipython",
    "version": 3
   },
   "file_extension": ".py",
   "mimetype": "text/x-python",
   "name": "python",
   "nbconvert_exporter": "python",
   "pygments_lexer": "ipython3",
   "version": "3.10.8"
  }
 },
 "nbformat": 4,
 "nbformat_minor": 5
}
