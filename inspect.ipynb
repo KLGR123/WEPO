{
 "cells": [
  {
   "cell_type": "code",
   "execution_count": 12,
   "id": "9b85cd50-ea87-4704-802a-3541ad929656",
   "metadata": {},
   "outputs": [],
   "source": [
    "# Load model directly\n",
    "from transformers import AutoTokenizer, AutoModelForCausalLM\n",
    "\n",
    "tokenizer = AutoTokenizer.from_pretrained(\"autodl-tmp/Mistral-7B-Instruct-v0.1\", trust_remote_code=True)\n",
    "# model = AutoModelForCausalLM.from_pretrained(\"autodl-tmp/Meta-Llama-3-8B-Instruct\", trust_remote_code=True)"
   ]
  },
  {
   "cell_type": "code",
   "execution_count": 14,
   "id": "ae97d0f7-3ab5-4614-a73f-3364e328386b",
   "metadata": {},
   "outputs": [
    {
     "data": {
      "text/plain": [
       "13785"
      ]
     },
     "execution_count": 14,
     "metadata": {},
     "output_type": "execute_result"
    }
   ],
   "source": [
    "import json\n",
    "\n",
    "with open(\"data/mind2web_dpo_train_50.json\", \"r\") as file:\n",
    "    dataset = json.load(file)\n",
    "\n",
    "len(dataset)"
   ]
  },
  {
   "cell_type": "code",
   "execution_count": null,
   "id": "bf307f29-0510-4efc-8ad3-59ac8dc909fc",
   "metadata": {},
   "outputs": [],
   "source": [
    "max_ = 0\n",
    "\n",
    "for dat in dataset:\n",
    "    cur_ = len(tokenizer(dat[\"instruction\"]+dat[\"input\"]+dat[\"output\"][0])[\"input_ids\"])\n",
    "    if cur_ > max_:\n",
    "        max_ = cur_\n",
    "        \n",
    "max_"
   ]
  },
  {
   "cell_type": "code",
   "execution_count": 15,
   "id": "30138cd7-802b-4c19-b4f5-9a4f62073284",
   "metadata": {},
   "outputs": [
    {
     "data": {
      "text/plain": [
       "0.0"
      ]
     },
     "execution_count": 15,
     "metadata": {},
     "output_type": "execute_result"
    }
   ],
   "source": [
    "import re\n",
    "\n",
    "count = 0\n",
    "\n",
    "for dat in dataset:\n",
    "    id_pattern = r\"ID: (\\d+)\"\n",
    "    output_id = re.search(id_pattern, dat[\"output\"][0]).group(1)\n",
    "    if output_id not in dat[\"input\"]:\n",
    "        count += 1\n",
    "\n",
    "count / len(dataset)"
   ]
  },
  {
   "cell_type": "code",
   "execution_count": 10,
   "id": "9f46d972-17d1-41bd-972e-ed58cd379e65",
   "metadata": {},
   "outputs": [
    {
     "name": "stdout",
     "output_type": "stream",
     "text": [
      "51\n"
     ]
    }
   ],
   "source": [
    "id_pattern = r'id=\"(\\d+)'\n",
    "\n",
    "for dat in dataset: # 51 / 11\n",
    "    output_ids = re.findall(id_pattern, dat[\"input\"])\n",
    "    print(len(output_ids))\n",
    "    break"
   ]
  },
  {
   "cell_type": "code",
   "execution_count": null,
   "id": "57cf8a2a-a2b4-4f7f-a15c-25a7b28f93fa",
   "metadata": {},
   "outputs": [],
   "source": []
  },
  {
   "cell_type": "code",
   "execution_count": null,
   "id": "98b223b1-298f-46ef-80b7-58f69be317f4",
   "metadata": {},
   "outputs": [],
   "source": []
  }
 ],
 "metadata": {
  "kernelspec": {
   "display_name": "Python 3 (ipykernel)",
   "language": "python",
   "name": "python3"
  },
  "language_info": {
   "codemirror_mode": {
    "name": "ipython",
    "version": 3
   },
   "file_extension": ".py",
   "mimetype": "text/x-python",
   "name": "python",
   "nbconvert_exporter": "python",
   "pygments_lexer": "ipython3",
   "version": "3.10.8"
  }
 },
 "nbformat": 4,
 "nbformat_minor": 5
}
